{
 "cells": [
  {
   "cell_type": "markdown",
   "metadata": {},
   "source": [
    "### 스택 "
   ]
  },
  {
   "cell_type": "code",
   "execution_count": null,
   "metadata": {},
   "outputs": [],
   "source": [
    "class Stack(object):\n",
    "    def __init__(self):\n",
    "        self.stack = []\n",
    "        self.count = 0\n",
    "        \n",
    "    def push(self, x):\n",
    "        self.stack.append(x)\n",
    "        self.count += 1\n",
    "    \n",
    "    def pop(self):\n",
    "        if self.count > 0:\n",
    "            self.count -= 1\n",
    "            return self.stack.pop(-1)\n",
    "        return -1\n",
    "    \n",
    "    def __len__(self):\n",
    "        return self.count\n",
    "    \n",
    "    def empty(self):\n",
    "        return 1 if self.count == 0 else 0\n",
    "    \n",
    "    def top(self):\n",
    "        return -1 if self.count == 0 else self.stack[-1]\n",
    "\n",
    "import sys\n",
    "\n",
    "input=sys.stdin.readline\n",
    "    \n",
    "if __name__ == '__main__':\n",
    "    N = int(input())\n",
    "    stack = Stack()\n",
    "    for _ in range(N):\n",
    "        cmd = list(input().split())\n",
    "        if cmd[0]=='push':\n",
    "            stack.push(int(cmd[1]))\n",
    "            continue\n",
    "        if cmd[0]=='pop':\n",
    "            print(stack.pop())\n",
    "            continue\n",
    "        if cmd[0]=='size':\n",
    "            print(len(stack))\n",
    "            continue\n",
    "        if cmd[0]=='empty':\n",
    "            print(stack.empty())\n",
    "            continue\n",
    "        if cmd[0]=='top':\n",
    "            print(stack.top())\n",
    "            continue"
   ]
  },
  {
   "cell_type": "code",
   "execution_count": 34,
   "metadata": {},
   "outputs": [
    {
     "name": "stdout",
     "output_type": "stream",
     "text": [
      "14\n",
      "push 1\n",
      "push 2\n",
      "top\n",
      "2\n",
      "size\n",
      "2\n",
      "empty\n",
      "0\n",
      "pop\n",
      "2\n",
      "pop\n",
      "1\n",
      "pop\n",
      "-1\n",
      "size\n",
      "0\n",
      "empty\n",
      "1\n",
      "pop\n",
      "-1\n",
      "push 3\n",
      "empty\n",
      "0\n",
      "top\n",
      "3\n"
     ]
    }
   ],
   "source": [
    "N = int(input())\n",
    "stack = []\n",
    "for _ in range(N):\n",
    "    cmd = input().split()\n",
    "    if cmd[0]=='push':\n",
    "        stack.append(int(cmd[1]))\n",
    "        continue\n",
    "    if cmd[0]=='pop':\n",
    "        try:\n",
    "            print(stack.pop())\n",
    "        except:\n",
    "            print(-1)\n",
    "        continue\n",
    "    if cmd[0]=='size':\n",
    "        print(len(stack))\n",
    "        continue\n",
    "    if cmd[0]=='empty':\n",
    "        if stack:\n",
    "            print(0)\n",
    "        else:\n",
    "            print(1)\n",
    "        continue\n",
    "    if cmd[0]=='top':\n",
    "        try:\n",
    "            print(stack[-1])\n",
    "        except:\n",
    "            print(-1)\n",
    "        continue"
   ]
  }
 ],
 "metadata": {
  "kernelspec": {
   "display_name": "aiffel",
   "language": "python",
   "name": "aiffel"
  },
  "language_info": {
   "codemirror_mode": {
    "name": "ipython",
    "version": 3
   },
   "file_extension": ".py",
   "mimetype": "text/x-python",
   "name": "python",
   "nbconvert_exporter": "python",
   "pygments_lexer": "ipython3",
   "version": "3.7.6"
  }
 },
 "nbformat": 4,
 "nbformat_minor": 4
}
