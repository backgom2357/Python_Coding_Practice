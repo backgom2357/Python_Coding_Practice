{
 "cells": [
  {
   "cell_type": "markdown",
   "metadata": {},
   "source": [
    "# Stack1"
   ]
  },
  {
   "cell_type": "markdown",
   "metadata": {},
   "source": [
    "## Stack 자료구조의 개념\n",
    "\n",
    " - Stack의 특성\n",
    "     - 물건을 쌓아 올리듯 자료를 쌓아 올린 형태의 자료구조\n",
    "     - 스택에 저장된 자료는 선형구조를 가짐\n",
    "         - 선형구조 : 자료 간의 관계가 1대1의 관계를 가짐\n",
    "         - 비선형 구조 : 자료 간의 관계가 1대 N의 관계를 가짐\n",
    "     - 스택에 자료를 삽입하거나 스택에서 자료를 꺼낼 수 있음\n",
    "     - 마지막에 삽입한 자료를 가장 먼저 꺼냄\n",
    "     - 후입선출(LIFO, Last-In-First-Out)이라고 부름\n",
    "     \n",
    " - Stack의 구현\n",
    "     - 자료구조\n",
    "         - 자료를 선형으로 저장할 저상소가 필요함\n",
    "             - C에서는 배열을 사용할 수 있음\n",
    "             - 파이썬에서는 리스트를 사용할 수 있음\n",
    "             - 저장소 자체를 스택이라 부르기도 함\n",
    "             - 스택에서 마지막 삽입된 원소의 위치를 top이라 부름\n",
    "     - 연산\n",
    "         - 삽입 : 저장소에 자료를 저장하고 보통 push라고 부름\n",
    "         - 삭제 : 저장소에서 자료를 꺼냄. 꺼낸 자료는 삽입한 자료의 역순으로 꺼냄. 보통 pop이라고 부름\n",
    "         - isEmpty : 스택이 공백인지 아닌지를 확인하는 연산\n",
    "         - peek : 스택의 top에 있는 item(원소)을 반환하는 연산\n",
    " - Stack의 연산\n",
    "     - 스택의 삽입/삭제 연산 과정\n",
    "         - 빈 스택에 원소 A,B,C를 차례로 삽입 후 한 번 삭제하는 연산 과정\n",
    "     - push 알고리즘\n",
    "     - pop 알고리즘\n",
    "     - 구현하기\n",
    "     - 스택 구현 고려사항\n",
    "         - 리스트를 사용하여 Stack을 구현하는 경우\n",
    "             - 장점 : 구현이 용이하다는 장점\n",
    "             - 단점 : 리스트의 크기를 변경하는 작업은 내부적으로 큰 overhead 발생 작업으로 많은 시간이 소요\n",
    "         - 해결 방법\n",
    "             - 리스트의 크기가 변동되지 않도록 배열처럼 크기를 미리 정해놓고 사용하는 방법\n",
    "             - 동적 연결리스트를 이용하여 저장소를 동적으로 할당하여 스택을 구현하는 방법\n",
    "             - 장점 : 구현이 용이하다\n",
    "             - 단점 : 리스트로 구현하는 것 보다 구현이 복잡"
   ]
  },
  {
   "cell_type": "code",
   "execution_count": null,
   "metadata": {},
   "outputs": [],
   "source": [
    "# push, pop 알고리즘, stack 구현하기\n",
    "\n",
    "\n",
    "s = [] # stack\n",
    "\n",
    "def push(item):\n",
    "    s.append(item)\n",
    "\n",
    "def pop():\n",
    "    if len(s) == 0:\n",
    "        print(\"Stack is Empty!\") # underflow 처리??\n",
    "        return\n",
    "    else:\n",
    "        return s.pop(-1)\n",
    "              \n",
    "push(1)\n",
    "push(2)\n",
    "push(3)\n",
    "print(\"pop item =>\", pop())\n",
    "print(\"pop item =>\", pop())\n",
    "print(\"pop item =>\", pop())"
   ]
  },
  {
   "cell_type": "markdown",
   "metadata": {},
   "source": [
    "## Stack의 응용\n",
    "\n",
    " - 괄호 검사\n",
    "     - 괄호의 종류 : [], {}, ()\n",
    "     - 조건\n",
    "         - 왼쪽 괄호의 개수와 오른쪽 괄호의 개수가 같아야 함\n",
    "         - 같은 괄호에서 왼쪽 괄호는 오른쪽 괄호보다 먼저 나와야 함\n",
    "         - 괄호 사이에는 포함 관계만 존재함\n",
    "     - 괄호를 조사하는 알고리즘 개요\n",
    "         - 문자열에 있는 괄호를 차례대로 조사\n",
    "             - 왼쪽 괄호를 만나면 스택에 삽입\n",
    "             - 오른쪽 괄호를 만나면 스택에서 top괄호를 삭제한 후 오른쪽 괄호와 짝이 맞는지 확인\n",
    "                 - 스택이 비어있음(조건 1 또는 2에 위배)\n",
    "                 - 괄호의 짝이 맞지 않음(조건 3에 위배)\n",
    "                 - 문자열 끝까지 조사한 후에도 스택에 괄호가 남아있음(조건 1에 위배)\n",
    " - Function call\n",
    "     - 프로그램에서의 함수 호출과 복귀에 따른 수행 순서를 관리\n",
    "         - 가장 마지막에 호출된 함수가 가장 먼저 실행을 완료하고 복귀하는 후입선출 구조이므로, 후입선출 구조의 스택을 이용하여 수행순서 관리\n",
    "         - 함수 호출이 발생하면 호출한 함수 수행에 필요한 지역변수, 매개변수 및 수행 후 복귀할 주소 등의 정보를 스택 프레임에 저장하여 시스템 스택에 삽입\n",
    "         - 함수의 실행이 끝나면 시스템 스택의 top원소(스택 프레임)를 삭제(pop)하면서 프레임에 저장되어있던 복귀주소를 확인하고 복귀\n",
    "         - 함수 호출과 복귀에 따라 이 과정을 반복하여 전체 프로그램 수행이 종료되면 시스템 스택은 공백 스택이 됨\n",
    "      - 재귀 호출\n",
    "          - 자기 자신을 호출하여 순환 수행되는 것\n",
    "          - 함수에서 실행해야 하는 작업의 특성에 따라 일반적인 호출방식보다 재귀 호출 방식을 사용하여 함수를 만들면 프로그램의 크기를 줄이고 간단하게 작성할 수 있음\n",
    "          - 디버깅이 어렵고 잘못 작성하게 되면 수행 시간이 많이 소요됨\n",
    "          - 예) factorial"
   ]
  },
  {
   "cell_type": "markdown",
   "metadata": {},
   "source": [
    "## Memoization\n",
    "\n",
    " - 피보나치 수열\n",
    "    - 재귀\n",
    "        - 문제점 : 엄청난 중복 호출이 존재\n",
    "        \n",
    " - Memoization란?\n",
    "     - Memoization의 의미\n",
    "         - 컴퓨터 프로그램을 실행할 때 이전에 계산한 값을 메모리에 저장해서 매번 다시 계산하지 않도록 하여 전체적인 실행속도를 빠르게 하는 기술\n",
    "         - DP(동적 계획법)의 핵심이 되는 기술\n",
    "     - Memoization 단어의 의미\n",
    "         - 글자 그래도 해석하면 '메모리에 넣기'라는 의미\n",
    "         - '기억되어야 할 것'이라는 뜻의 라틴어 Memorandum에서 파생\n",
    "         - Memorization과 햇갈림. 동사형은 memoize"
   ]
  },
  {
   "cell_type": "code",
   "execution_count": null,
   "metadata": {},
   "outputs": [],
   "source": [
    "# 재귀\n",
    "\n",
    "def fibo(n):\n",
    "    if n<2:\n",
    "        return n\n",
    "    else:\n",
    "        return fibo(n-1) + fibo(n-2)\n",
    "    \n",
    "# Memoization\n",
    "\n",
    "def fibo1(n):\n",
    "    global memo\n",
    "    if n >= 2 and len(memo) <= n:\n",
    "        memo.append(fibo1(n-1) + fibo1(n-2))\n",
    "    return memo[n]\n",
    "\n",
    "memo = [0,1]"
   ]
  },
  {
   "cell_type": "markdown",
   "metadata": {},
   "source": [
    "## Dynamic Programming(동적 계획법)\n",
    "\n",
    " - DP 알고리즘\n",
    "     - 그리디 알고리즘과 같이 최적화 문제를 해결하는 알고리즘\n",
    "     - 먼저 입력 크기가 작은 부분 문제들을 모두 해결한 후에 그 해들을 이용하여 보다 큰 크기의 부분 문제들을 해결\n",
    "     - 최종적으로 원래 주어진 입력의 문제를 해결\n",
    " - DP를 적용한 피보나치 수\n",
    "     - 문제를 부분 문제로 분할\n",
    "     - 가장 작은 부분 문제부터 해를 구함\n",
    "     - 그 결과는 테이블에 저장하고, 테이블에 저장된 부분 문제의 해를 이용하여 상위 문제의 해를 구함\n",
    "     - DP의 구현 방식\n",
    "         - recursive 방식 : fibo1()\n",
    "             - 재귀적 구조는 내부에 시스템 호출 스택을 사용하는 overhead가 발생할 수 있음\n",
    "                 - overhead : 어떤 처리를 하기 위해 들어가는 간접적인 처리 시간 메모리 등을 말함\n",
    "         - iterative 방식 : fibo2()\n",
    "             - Memoization을 재귀적 구조에 사용하는 것보다 반복적 구조로 DP를 구현한 것이 성능 면에서 보다 효율적"
   ]
  },
  {
   "cell_type": "code",
   "execution_count": null,
   "metadata": {},
   "outputs": [],
   "source": [
    "def fibo2(n):\n",
    "    f = [0,1]\n",
    "    \n",
    "    for i in range(2, n+1):\n",
    "        f.append(f[i-1] + f[i-2])\n",
    "    \n",
    "    return f[n]"
   ]
  },
  {
   "cell_type": "markdown",
   "metadata": {},
   "source": [
    "## Depth First Search\n",
    "\n",
    " - DFS(깊이 우선 탐색)이란?\n",
    "     - 비선형구조인 그래프 구조는 그래프로 표현된 모든 자료를 빠짐없이 검색하는 것이 중요\n",
    "         - 깊이 우선 탐색(Depth First Search)\n",
    "         - 너비 우선 탐색(Breadth First Search)\n",
    "     - DFS 방법\n",
    "         - 시작 정점의 한 방향으로 갈 수 있는 결로가 있는 곳까지 깊이 탐색\n",
    "         - 더 이상 갈 곳이 없게 되면, 가장 마지막에 만났던 갈림길 간선이 있는 정점으로 되돌아옴\n",
    "         - 다른 방향의 정점으로 탐색을 계속 반복하여 결국 모든 정점을 방문하여 순회\n",
    "         - 가장 마지막에 만났던 갈림길의 정점으로 되돌아가서 다시 깊이 우선 탐색을 반복해야 하므로 후입선출 구조의 스택을 사용\n",
    " - DFS 알고리즘\n",
    "     - 시작 정점 v를 결정하여 방문.\n",
    "     - 1.정점 v에 인접한 정점 중에서\n",
    "         - 방문하지 않은 정점 w가 있으면, 정점 v를 스택에 push하고 정점 w를 방문\n",
    "             - w를 v로 하고 다시 1. 을 반복\n",
    "         - 방문하지 않은 정점이 없으면, 탐색의 방향을 바꾸기 위해서 스택을 pop하여 받은 가장 마지막 방문 정점을 v로 하여 다시 1. 을 반복"
   ]
  },
  {
   "cell_type": "markdown",
   "metadata": {},
   "source": [
    "### 파이썬에서 그래프 구현"
   ]
  },
  {
   "cell_type": "markdown",
   "metadata": {},
   "source": [
    "#### Adjacency list\n",
    "![graph](https://algocoding.files.wordpress.com/2014/08/graph11.png)"
   ]
  },
  {
   "cell_type": "code",
   "execution_count": null,
   "metadata": {},
   "outputs": [],
   "source": [
    "# Using a list of lists\n",
    "\n",
    "adjLists = [[1,2],[2,3],[4],[4,5],[]]\n",
    "\n",
    "# Using a dictionary\n",
    "adjLists_dict = {}\n",
    "adjLists_dict[0] = [1,2]\n",
    "adjLists_dict[1] = [2,3]\n",
    "adjLists_dict[2] = [4]\n",
    "adjLists_dict[3] = [4,5]\n",
    "adjLists_dict[4] = [5]\n",
    "adjLists_dict[5] = []"
   ]
  },
  {
   "attachments": {
    "image.png": {
     "image/png": "[encoded data removed]"
    }
   },
   "cell_type": "markdown",
   "metadata": {},
   "source": [
    "http://ejklike.github.io/2018/01/05/bfs-and-dfs.html\n",
    "![image.png](attachment:image.png)"
   ]
  },
  {
   "cell_type": "code",
   "execution_count": null,
   "metadata": {},
   "outputs": [],
   "source": [
    "graph = {'A': set(['B', 'C']),\n",
    "         'B': set(['A', 'D', 'E']),\n",
    "         'C': set(['A', 'F']),\n",
    "         'D': set(['B']),\n",
    "         'E': set(['B', 'F']),\n",
    "         'F': set(['C', 'E'])}"
   ]
  },
  {
   "attachments": {
    "image.png": {
     "image/png": "[encoded data removed]"
    }
   },
   "cell_type": "markdown",
   "metadata": {},
   "source": [
    "#### Adjacency matrix\n",
    "https://www.programiz.com/dsa\n",
    "![image.png](attachment:image.png)"
   ]
  },
  {
   "cell_type": "code",
   "execution_count": null,
   "metadata": {
    "scrolled": true
   },
   "outputs": [],
   "source": [
    "class Graph(object):\n",
    "    def __init__(self, size):\n",
    "        self.adjMatrix = []\n",
    "        for i in range(size):\n",
    "            self.adjMatrix.append([0 for i in range(size)])\n",
    "        self.size = size\n",
    "    def addEdge(self, v1, v2):\n",
    "        if v1 == v2:\n",
    "            print(\"Same vertex %d and %d\" % (v1, v2))\n",
    "        self.adjMatrix[v1][v2] = 1\n",
    "        self.adjMatrix[v2][v1] = 1\n",
    "    def removeEdge(self, v1, v2):\n",
    "        if self.adjMatrix[v1][v2] == 0:\n",
    "            print(\"No edge between %d and %d\" % (v1, v2))\n",
    "            return\n",
    "        self.adjMatrix[v1][v2] = 0\n",
    "        self.adjMatrix[v2][v1] = 0\n",
    "    def containsEdge(self, v1, v2):\n",
    "        return True if self.adjMatrix[v1][v2] > 0 else False\n",
    "    def __len__(self):\n",
    "        return self.size\n",
    "        \n",
    "    def toString(self):\n",
    "        for row in self.adjMatrix:\n",
    "            for val in row:\n",
    "                print('{:4}'.format(val)),\n",
    "            print\n",
    "        \n",
    "def main():\n",
    "        g = Graph(4)\n",
    "        g.addEdge(0, 1);\n",
    "        g.addEdge(0, 2);\n",
    "        g.addEdge(1, 2);\n",
    "        g.addEdge(2, 3);\n",
    "    \n",
    "        for i in range(4):\n",
    "            print(g.adjMatrix[i])\n",
    "            \n",
    "if __name__ == '__main__':\n",
    "    main()"
   ]
  },
  {
   "cell_type": "markdown",
   "metadata": {},
   "source": [
    "노드 개수에 비해 엣지 개수가 훨씬 적은 그래프라면 인접 행렬보다는 인접 리스트를 사용하는 게 탐색에 효율적이다. 전체 노드가 아닌 연결된 노드만 살펴보면 되기 때문이다. 또한, 인접 리스트는 엣지 개수에 비례하는 메모리만 차지하는 장점이 있다. 단, 두 노드의 연결관계를 알고싶을 때는 인접 행렬이 효율적이다. "
   ]
  },
  {
   "cell_type": "code",
   "execution_count": null,
   "metadata": {},
   "outputs": [],
   "source": [
    "# DFS\n",
    "\n",
    "def DFS(root, graph):\n",
    "    \n",
    "    stack = []\n",
    "    visited = []\n",
    "   \n",
    "    v, w = root, root\n",
    "    \n",
    "    visited.append(v)\n",
    "    stack.append(v)\n",
    "    \n",
    "    while len(set(visited)) < len(graph):\n",
    "        for node in graph[v]:\n",
    "            if node not in visited:\n",
    "                print(\"v : \", v, \"node : \", node)\n",
    "                w = node\n",
    "                break\n",
    "        if v == w:\n",
    "            v = stack.pop(-1)\n",
    "        else:\n",
    "            v = w\n",
    "            stack.append(v)\n",
    "            if v not in visited:\n",
    "                visited.append(v)\n",
    "            \n",
    "    return visited\n",
    "\n",
    "# 반복 돌릴때 set으로 하면 뒤로부터, \n",
    "# list로 하면 앞부터 돌린다."
   ]
  },
  {
   "cell_type": "code",
   "execution_count": null,
   "metadata": {},
   "outputs": [],
   "source": [
    "g = {}\n",
    "g[\"A\"] = [\"B\",\"C\"]\n",
    "g[\"B\"] = [\"A\",\"D\",\"E\"]\n",
    "g[\"C\"] = [\"A\",\"E\"]\n",
    "g[\"D\"] = [\"B\",\"F\"]\n",
    "g[\"E\"] = [\"B\",\"C\",\"F\"]\n",
    "g[\"F\"] = [\"D\",\"E\",\"G\"]\n",
    "g[\"G\"] = [\"F\"]"
   ]
  },
  {
   "cell_type": "code",
   "execution_count": null,
   "metadata": {},
   "outputs": [],
   "source": [
    "DFS(\"A\",g)"
   ]
  },
  {
   "cell_type": "code",
   "execution_count": null,
   "metadata": {},
   "outputs": [],
   "source": [
    "def dfs(graph, start):\n",
    "    visited = []\n",
    "    stack = [start]\n",
    "\n",
    "    while stack:\n",
    "        n = stack.pop()\n",
    "        if n not in visited:\n",
    "            visited.append(n)\n",
    "            stack += graph[n] - set(visited)\n",
    "    return visited"
   ]
  },
  {
   "cell_type": "code",
   "execution_count": null,
   "metadata": {},
   "outputs": [],
   "source": [
    "dfs(g,\"A\")"
   ]
  },
  {
   "cell_type": "markdown",
   "metadata": {},
   "source": [
    "#### 종이붙이기"
   ]
  },
  {
   "cell_type": "code",
   "execution_count": null,
   "metadata": {
    "scrolled": true
   },
   "outputs": [],
   "source": [
    "T = int(input())\n",
    "\n",
    "def factorial(n):\n",
    "    result = 1\n",
    "    if n == 0:\n",
    "        return 1\n",
    "    elif n<0:\n",
    "        return 0\n",
    "    else:\n",
    "        for i in range(1,n+1):\n",
    "            result *= i\n",
    "    return result\n",
    "\n",
    "for case in range(1,T+1):\n",
    "    \n",
    "    width = int(input())//10\n",
    "    \n",
    "    num_of_case = 0\n",
    "    \n",
    "    for num in range(width):\n",
    "        try:\n",
    "            num_of_case += (factorial(width-num)//(factorial(width-2*num)*factorial(num)))*(2**num)\n",
    "        except:\n",
    "            break\n",
    "        \n",
    "    print(\"#%d\"%case, int(num_of_case))"
   ]
  },
  {
   "cell_type": "markdown",
   "metadata": {},
   "source": [
    "#### 괄호검사"
   ]
  },
  {
   "cell_type": "code",
   "execution_count": null,
   "metadata": {},
   "outputs": [],
   "source": [
    "T = int(input())\n",
    "\n",
    "for case in range(1,T+1):\n",
    "    code = input()\n",
    "    bracket_open = \"({\"\n",
    "    bracket_close = \")}\"\n",
    "    bracket1 = \"()\"\n",
    "    bracket2 = \"{}\"\n",
    "    stack = []\n",
    "    \n",
    "    result = 1\n",
    "    \n",
    "    for c in code:\n",
    "        if c in bracket_open:\n",
    "            stack.append(c)\n",
    "        elif c in bracket_close:\n",
    "            try:\n",
    "                tmp = stack.pop(-1)\n",
    "                if tmp+c != bracket1 and tmp+c != bracket2:\n",
    "                    result = 0\n",
    "                    break\n",
    "            except:\n",
    "                result = 0\n",
    "                break\n",
    "    \n",
    "    if stack:\n",
    "        result = 0\n",
    "    \n",
    "    print(\"#%d\"%case, result)"
   ]
  },
  {
   "cell_type": "markdown",
   "metadata": {},
   "source": [
    "#### 그래프 경로"
   ]
  },
  {
   "cell_type": "code",
   "execution_count": null,
   "metadata": {},
   "outputs": [],
   "source": [
    "# T = int(input())\n",
    "\n",
    "f = open(\"cases.txt\", \"r\")\n",
    "\n",
    "T = int(f.readline())\n",
    "\n",
    "def dfs(root, key, graph):\n",
    "    v, w = root, root\n",
    "    stack = [\"OUT\", v]\n",
    "    visited = [v]\n",
    "\n",
    "    while len(visited) < len(graph):\n",
    "\n",
    "        # print(\"=========\",v,\"=========\")\n",
    "        #\n",
    "        # print(\"stack: \",stack)\n",
    "        # print(\"visited: \",visited)\n",
    "\n",
    "        for node in graph[v]:\n",
    "            if node not in visited:\n",
    "                w = node\n",
    "\n",
    "        if v == w:\n",
    "            stack.pop(-1)\n",
    "            v,w = stack[-1], stack[-1]\n",
    "\n",
    "        else:\n",
    "            v = w\n",
    "            stack.append(v)\n",
    "            if v not in visited:\n",
    "                visited.append(v)\n",
    "\n",
    "        if v == key:\n",
    "            return 1\n",
    "\n",
    "        if v == \"OUT\":\n",
    "            break\n",
    "\n",
    "    return 0\n",
    "\n",
    "\n",
    "for case in range(1, T + 1):\n",
    "    # V, E = map(int, input().split())\n",
    "    V, E = map(int, f.readline().split())\n",
    "\n",
    "    graph = {}\n",
    "\n",
    "    for idx in range(1,V+1):\n",
    "        graph[idx] = set()\n",
    "\n",
    "    for i in range(E):\n",
    "        # s, e = map(int, input().split())\n",
    "        s, e = map(int, f.readline().split())\n",
    "        graph[s].add(e)\n",
    "\n",
    "    # print(graph)\n",
    "\n",
    "    # S, G = map(int, input().split())\n",
    "    S, G = map(int, f.readline().split())\n",
    "\n",
    "    result = dfs(S, G, graph)\n",
    "\n",
    "    print(\"#%d\" % case, result)\n",
    "\n",
    "f.close()"
   ]
  },
  {
   "cell_type": "markdown",
   "metadata": {},
   "source": [
    "#### 반복문자 지우기"
   ]
  },
  {
   "cell_type": "code",
   "execution_count": 2,
   "metadata": {
    "scrolled": true
   },
   "outputs": [
    {
     "name": "stdout",
     "output_type": "stream",
     "text": [
      "1\n",
      "UKJWHGGHNFTCRRCTWLALX\n",
      "#1 11\n"
     ]
    }
   ],
   "source": [
    "T = int(input())\n",
    "\n",
    "for case in range(1,T+1):\n",
    "    S = input()\n",
    "    stack = [\"\"]\n",
    "    \n",
    "    for c in S:\n",
    "        \n",
    "        if stack[-1] != c:\n",
    "            stack.append(c)\n",
    "        else:\n",
    "            stack.pop(-1)\n",
    "            \n",
    "#        print(stack)\n",
    "    print(\"#%d\"%case, len(\"\".join(stack)))"
   ]
  },
  {
   "cell_type": "code",
   "execution_count": null,
   "metadata": {},
   "outputs": [],
   "source": []
  }
 ],
 "metadata": {
  "kernelspec": {
   "display_name": "Python 3",
   "language": "python",
   "name": "python3"
  },
  "language_info": {
   "codemirror_mode": {
    "name": "ipython",
    "version": 3
   },
   "file_extension": ".py",
   "mimetype": "text/x-python",
   "name": "python",
   "nbconvert_exporter": "python",
   "pygments_lexer": "ipython3",
   "version": "3.6.6"
  }
 },
 "nbformat": 4,
 "nbformat_minor": 2
}
