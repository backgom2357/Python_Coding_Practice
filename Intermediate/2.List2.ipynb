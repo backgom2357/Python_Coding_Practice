{
 "cells": [
  {
   "cell_type": "markdown",
   "metadata": {},
   "source": [
    "# List 2"
   ]
  },
  {
   "cell_type": "markdown",
   "metadata": {},
   "source": [
    "## 2차원 List 구조\n",
    "\n",
    " - 2차원 List 구조\n",
    "     - 1차원 List를 묶어놓은 List\n",
    "     - 2차원 이상의 다차원 List는 차원에 따라 Index를 선언\n",
    "     - 2차원 List의 선언 : 세로길이(행의 개수), 가로길이(열의 개수)를 필요로 함"
   ]
  },
  {
   "cell_type": "code",
   "execution_count": null,
   "metadata": {},
   "outputs": [],
   "source": [
    "# List 초기화시 유의사항\n",
    "\n",
    "a1 = [0,0,0,0,0]\n",
    "b1 = [0]*5\n",
    "c1 = [0 for i in range(5)]\n",
    "\n",
    "a1[2] = 777\n",
    "b1[2] = 777\n",
    "c1[2] = 777\n",
    "\n",
    "print(\"1차원\")\n",
    "print(\"a1 : \", a1)\n",
    "print(\"b1 : \", b1)\n",
    "print(\"c1 : \", c1)\n",
    "\n",
    "a2 = [[1,2,3],[1,2,3],[1,2,3]]\n",
    "b2 = [[1,2,3]]*3\n",
    "c2 = [[1,2,3] for i in range(3)]\n",
    "\n",
    "a2[2][2] = 777\n",
    "b2[2][2] = 777\n",
    "c2[2][2] = 777\n",
    "\n",
    "print(\"2차원\")\n",
    "print(\"a2 : \", a2)\n",
    "print(\"a2 : \", b2)\n",
    "print(\"a2 : \", c2)\n",
    "\n",
    "# 곱셈을 통한 리스트 생성은 2차에서 같은 주소를 쓰는 듯 하다."
   ]
  },
  {
   "cell_type": "markdown",
   "metadata": {},
   "source": [
    " - 2차원 List 순회\n",
    "     - 행 우선 순회\n",
    "     - 열 우선 순회\n",
    "     - 지그재그 순회"
   ]
  },
  {
   "cell_type": "code",
   "execution_count": null,
   "metadata": {},
   "outputs": [],
   "source": [
    "# 지그재그 순회\n",
    "\n",
    "# i : 행의 좌표, n = len(arr)\n",
    "# j : 열의 좌표, m = len(arr[0])\n",
    "\n",
    "for i in range(len(arr)):\n",
    "    for j in range(len(arr[0])):\n",
    "        arr[i][j+(m-1-2*j)*(i%2)]\n",
    "        # 필요한 연산 수행"
   ]
  },
  {
   "cell_type": "markdown",
   "metadata": {},
   "source": [
    " - 델타를 이용한 2차 List 탐색\n",
    "     - 2차 List의 한 좌표에서 네 방향의 인접 List요소를 탐색할 때 사용하는 방법\n",
    "     - 델타 값은 한 좌표에서 네 방향의 좌표와 x, y의 차이를 저장한 List로 구현\n",
    "     - 델타 값을 이용하여 특정 원소의 상하좌우에 위치한 원소에 접근할 수 있음\n",
    "     - Tip: 2차원 List의 가장자리 원소들은 상하좌우 네 방향에 원소가 존재하지 않을 경우가 있으므로, index를 체크하거나 Index의 범위를 제한해야 함"
   ]
  },
  {
   "cell_type": "code",
   "execution_count": null,
   "metadata": {},
   "outputs": [],
   "source": [
    "# arr[0...n-1][0...n-1] : 2차원 List\n",
    "dx = [0, 0, -1, 1]\n",
    "dy = [-1, 1, 0, 0]\n",
    "\n",
    "for x in range(len(arr)):\n",
    "    for y in range(len(arr[x])):\n",
    "        print((x,y),\"cordinate\")\n",
    "        for i in range(4):\n",
    "            testX = x + dx[i]\n",
    "            testY = y + dy[i]\n",
    "            print(arr[testX][testY])"
   ]
  },
  {
   "cell_type": "markdown",
   "metadata": {},
   "source": [
    " - 전치 행렬 : 행과 열의 값이 반대인 행렬을 의미\n",
    "     - zip(iterable \\*) : 동일한 개수로 이루어진 자료형들을 묶어주는 역할을 하는 함수"
   ]
  },
  {
   "cell_type": "code",
   "execution_count": null,
   "metadata": {},
   "outputs": [],
   "source": [
    "# zip을 이용한 Transpose\n",
    "arr = [[1,2,3],[4,5,6],[7,8,9],[10,11,12]]\n",
    "print(list(map(list,zip(*arr))))"
   ]
  },
  {
   "cell_type": "markdown",
   "metadata": {},
   "source": [
    "## 부분 집합\n",
    "\n",
    "- 부분 집합의 합 문제 : 유한 개의 정수로 이루어진 집합이 있을 때, 이 집합의 부분 집합 중에서 그 집합의 원소를 모두 더한 값이 0이 되는 경우가 있는지를 알아내는 문제"
   ]
  },
  {
   "cell_type": "code",
   "execution_count": null,
   "metadata": {},
   "outputs": [],
   "source": [
    "# 부분 집합 문제 알고리즘1\n",
    "\n",
    "bit = [0,0,0,0]\n",
    "for i in range(2):\n",
    "    bit[0] = i\n",
    "    for j in range(2):\n",
    "        bit[1] = j\n",
    "        for k in range(2):\n",
    "            bit[2] = k\n",
    "            for l in range(2):\n",
    "                bit[3] = l\n",
    "                print(bit)"
   ]
  },
  {
   "cell_type": "markdown",
   "metadata": {},
   "source": [
    " - 비트 연산자 : 0과 1로 이루어진 이진수에 대한 연산을 수행하는 연산자\n",
    "    - & : 비트 단위로 AND 연산을 함\n",
    "    - | : 비트 단위로 OR 연산을 함\n",
    "    - << : 피연산자의 비트열을 왼쪽으로 이동시킴\n",
    "    - \\>> : 피연산자의 비트열을 오른쪽으로 이동시킴\n",
    "    \n",
    "    - 1<<n : $2^n$ 원소가 n개일 경우 모든 부분집합의 수\n",
    "    - i&(1<<j): 1 i에서 j번째 비트가 1인지 아닌지를 리턴\n",
    "    "
   ]
  },
  {
   "cell_type": "code",
   "execution_count": null,
   "metadata": {},
   "outputs": [],
   "source": [
    "# 부분 집합 문제 알고리즘2\n",
    "\n",
    "arr = [1,2,3,4]\n",
    "n = len(arr)\n",
    "\n",
    "for i in range(1<<n):\n",
    "    for j in range(n):\n",
    "        if i&(1<<j):\n",
    "            print(arr[j],end=\",\")\n",
    "    print() "
   ]
  },
  {
   "cell_type": "markdown",
   "metadata": {},
   "source": [
    "## 검색\n",
    "\n",
    " - 검색 : 저장되어 있는 자료 중에서 원하는 항목을 찾는 작업\n",
    "     - 원하는 항목 : 목적하는 탐색키를 가진 항목\n",
    "         - 탐색키 : 자료를 구별하여 인식할 수 있는 키\n",
    " - 검색의 종류\n",
    "     - 순차 검색(Sequential Search)\n",
    "     - 이진 검색(Binary Search)\n",
    "     - 인덱싱(Indexing)\n",
    "     \n",
    " - 순차 검색\n",
    "     - 일렬로 되어 있는 자료를 순서대로 검색하는 방법\n",
    "     - List나 연결 List 등 순차구조로 구현된 자료구조에서 유용함\n",
    "     - 구현이 쉽지만, 검색 대상이 많은 경우 수행시간의 증가로 비효율적임\n",
    "     - 2가지 경우가 있음\n",
    "         - 정렬된 경우\n",
    "         - 정렬되지 않은 경우\n",
    "         \n",
    "     - 정렬되지 않은 경우\n",
    "         - 첫번째 원소부터 순서대로 검색대상과 키 값이 같은 원소가 있는지를 비교하여 찾음\n",
    "         - 키 값이 동일한 원소를 찾으면 그 원소의 인덱스를 반환\n",
    "         - 자료구조의 마지막에 갈 때까지 검색 대상을 찾지 못하면 검색 실패\n",
    "         \n",
    "     - 찾고자 하는 원소의 순서에 따른 비교횟수 결정\n",
    "         - 시간 복잡도 : O(n)\n",
    "         \n",
    "     - 정렬된 경우\n",
    "         - 자료가 오름차순으로 정렬된 상태에서 검색을 실시한다고 가정\n",
    "         - 자료를 순차적으로 검색하면서 키 값을 비교함\n",
    "         - 원소의 키 값이 검색 대상의 키 값보다 크면 원소가 없다는 것이므로 더 이상 검색하지 않고 검색을 종료함\n",
    "         - 정렬되어 있으므로, 검색 실패를 반환하는 경우 평균 비교 회수가 크게 줄어듦\n",
    "     - 찾고자 하는 원소의 순서에 따른 비교횟수 결정\n",
    "         - 시간 복잡도 : O(n)"
   ]
  },
  {
   "cell_type": "code",
   "execution_count": null,
   "metadata": {},
   "outputs": [],
   "source": [
    "# 순차검색 (정렬x)\n",
    "def seqentialSearch1(a, n, key):\n",
    "    i = 0\n",
    "    while i<n and a[i]!=key:\n",
    "        i = i + 1\n",
    "        \n",
    "    if i<n: return i\n",
    "    else: return -1\n",
    "    \n",
    "# 순차검색 (정렬o)\n",
    "def seqentialSearch2(a, n, key):\n",
    "    i = 0\n",
    "    while i<n and a[i]<key:\n",
    "        i = i + 1\n",
    "        \n",
    "    if i<n and a[i] == key: return i\n",
    "    else: return -1"
   ]
  },
  {
   "cell_type": "markdown",
   "metadata": {},
   "source": [
    "- 이진 검색\n",
    "    - 자료의 가운데 항목의 키 값과 비교하여 다음 검색의 위치를 결정하고 검색을 계속하는 방법\n",
    "        - 목적 키를 찾을 때까지 이진 검색을 순환적으로 반복 수행함으로써 검색 범위를 반으로 줄여가면서 빠르게 검색을 수행함\n",
    "    - 이진 검색을 하기 위해서는 자료가 정렬된 상태여야 함\n",
    "    - 정렬된 데이터가 n개 있는 경우 시간복잡도\n",
    "        - O(log(n))\n",
    "        \n",
    "    - 이진 검색의 검색 과정\n",
    "        1. 자료의 중앙에 있는 원소를 선택\n",
    "        2. 중앙 원소의 값과 찾고자 하는 목표 값을 비교\n",
    "        3. 목표값 < 중앙 원소 값 : 자료의 왼쪽 반에 대해서 새로 검색을 수행\n",
    "        3. 목표값 \\> 중앙 원소 값 : 자료의 오른쪽 반에 대해서 새로 검색을 수행\n",
    "        4. 찾고자 하는 값을 찾을 때까지 1~3의 과정을 반복\n",
    "        \n",
    "    - 검색 범위의 시작점과 종료점을 이용\n",
    "        - 검색 범위의 시작점과 종료점을 이용하여 검색을 반복 수행함\n",
    "        - 이진 검색의 경우, 자료에 삽입이나 삭제가 발생하였을 때 List의 상태를 항상 정렬 상태로 유지하는 추가 작업이 필요함"
   ]
  },
  {
   "cell_type": "code",
   "execution_count": null,
   "metadata": {},
   "outputs": [],
   "source": [
    "# 이진 검색 알고리즘\n",
    "def binarySearch1(a, key):\n",
    "    start = 0\n",
    "    end = len(a) - 1\n",
    "    while start <= end:\n",
    "        middle = start + (end - start)//2\n",
    "        if key == a[middle]: #검색 성공\n",
    "            return True\n",
    "        elif key < a[middle]:\n",
    "            end = middle - 1\n",
    "        else:\n",
    "            start = middle + 1\n",
    "    return False\n",
    "\n",
    "# 재귀 함수를 이용한 이진 검색 알고리즘\n",
    "def binarySearch2(a, low, high, key):\n",
    "    if low > high: # 검색 실패\n",
    "        return False\n",
    "    else:\n",
    "        middle = (low + high)//2\n",
    "        if key == a[middle]: # 검색 성공\n",
    "            return True\n",
    "        elif key < a[middle]:\n",
    "            return binarySearch2(a, low, middle-1, key)\n",
    "        elif key > a[middle]:\n",
    "            return binarySearch2(a, middle+1, high, key)"
   ]
  },
  {
   "cell_type": "markdown",
   "metadata": {},
   "source": [
    "- 인덱스\n",
    "    - 데이터베이스(Batabase)에서 유래, 테이블에 대한 동작 속도를 높임\n",
    "    - 룩 업 테이블(Look up table)등의 용어로 사용함\n",
    "    - 인덱스를 저장하는데 필요한 디스크 공간은 보통 테이블 저장에 필요한 디스크 공간보다 작음\n",
    "        - 인덱스는 키-필드만 갖고 있고, 테이블의 다른 세부 항복은 갖고 있지 않음\n",
    "    - List를 사용한 인덱스\n",
    "        - 대량의 데이터를 매번 정렬하면, 프로그램의 반응은 느려질 수 밖에 없음. 이러한 대량 데이터의 성능 저하 문제를 해결하기 위해 List인덱스를 사용할 수 있음"
   ]
  },
  {
   "cell_type": "markdown",
   "metadata": {},
   "source": [
    "## 정렬\n",
    "\n",
    "- 셀렉션 알고리즘\n",
    "    - 저장되어 있는 자료부터 k번째로 큰 혹은 작은 원소를 찾는 방법\n",
    "    - 최소값, 최대값 혹은 중간값을 찾는 알고리즘을 의미하기도 함\n",
    "    - 셀렉션 선택 과정\n",
    "        - 정렬 알고리즘을 이용하여 자료를 정렬\n",
    "        - 원하는 순서에 있는 원소 가져오기"
   ]
  },
  {
   "cell_type": "code",
   "execution_count": null,
   "metadata": {},
   "outputs": [],
   "source": [
    "# k번째로 작은 원소를 찾는 알고리즘\n",
    "# k가 작을때 유용, O(kn)의 수행시간을 필요로 함\n",
    "\n",
    "def select(l,k):\n",
    "    for i in range(0,k):\n",
    "        minIndex = i\n",
    "        for j in range(i+1, len(l)):\n",
    "            if l[minIndex] > l[j]:\n",
    "                minIndex = j\n",
    "        l[i], l[minIndex] = l[minIndex], l[i]\n",
    "    return l[k-1]"
   ]
  },
  {
   "cell_type": "markdown",
   "metadata": {},
   "source": [
    "- 선택 정렬\n",
    "    - 주어진 자료들 중 가장 작은 값의 원소부터 차례대로 선택하여 위치를 교환하는 방식\n",
    "    - 셀렉션 알고리즘을 전체 자료에 적용한 것\n",
    "    - 정렬 과정\n",
    "        - 주어진 List중에서 최소값을 찾음\n",
    "        - 그 값을 List의 맨 앞에 위치한 값과 교환\n",
    "        - 맨 처음 위치를 제외한 나머지 List를 대상으로 위의 과정을 반복\n",
    "    - 시간 복잡도\n",
    "        - $O(n^2)$"
   ]
  },
  {
   "cell_type": "code",
   "execution_count": null,
   "metadata": {},
   "outputs": [],
   "source": [
    "# 선택 정렬 알고리즘\n",
    "def selectionSort(a):\n",
    "    for i in range(0,len(a)-1):\n",
    "        min_num = i\n",
    "        for j in range(i+1, len(a)):\n",
    "            if a[min_num] > a[j]:\n",
    "                min_num = j\n",
    "        a[i], a[min_num] = a[min_num], a[i]"
   ]
  },
  {
   "cell_type": "markdown",
   "metadata": {},
   "source": [
    "### 색칠하기"
   ]
  },
  {
   "cell_type": "code",
   "execution_count": null,
   "metadata": {},
   "outputs": [],
   "source": [
    "T = int(input())\n",
    "\n",
    "for idx in range(1,T+1):\n",
    "    \n",
    "    canvas = [[0 for _ in range(10)] for _ in range(10)]\n",
    "    N = int(input())\n",
    "    \n",
    "    for _ in range(N):\n",
    "        colored = list(map(int,input().split()))\n",
    "        for y in range(colored[1],colored[3]+1):\n",
    "            for x in range(colored[0],colored[2]+1):\n",
    "                canvas[y][x] += colored[4]\n",
    "    \n",
    "    purple = 0\n",
    "    \n",
    "    for i in range(10):\n",
    "        for j in range(10):\n",
    "            if canvas[i][j] == 3:\n",
    "                purple += 1\n",
    "#        print(canvas[i])\n",
    "                \n",
    "    print(\"#%d\"%idx, purple)"
   ]
  },
  {
   "cell_type": "code",
   "execution_count": null,
   "metadata": {},
   "outputs": [],
   "source": [
    "[[0 for _ in range(10)] for _ in range(10)]"
   ]
  },
  {
   "cell_type": "markdown",
   "metadata": {},
   "source": [
    "### 부분집합의 합"
   ]
  },
  {
   "cell_type": "code",
   "execution_count": null,
   "metadata": {},
   "outputs": [],
   "source": [
    "T = int(input())\n",
    "\n",
    "A = [i for i in range(1,13)]\n",
    "n = len(A)\n",
    "\n",
    "for idx in range(1,T+1):\n",
    "    \n",
    "    N, K = map(int,input().split())\n",
    "    \n",
    "    count = 0\n",
    "    \n",
    "    for i in range(1<<n):\n",
    "        tmp = []\n",
    "        for j in range(n):\n",
    "            if i&(1<<j):\n",
    "                tmp.append(A[j])\n",
    "        if len(tmp) == N and sum(tmp) == K:\n",
    "#            print(tmp)\n",
    "            count += 1\n",
    "    \n",
    "    print(\"#%d\"%idx, count)"
   ]
  },
  {
   "cell_type": "markdown",
   "metadata": {},
   "source": [
    "### 이진탐색"
   ]
  },
  {
   "cell_type": "code",
   "execution_count": 13,
   "metadata": {},
   "outputs": [
    {
     "name": "stdout",
     "output_type": "stream",
     "text": [
      "1\n",
      "400 400 1\n",
      "400 =======================\n",
      "[201, 400]\n",
      "[301, 400]\n",
      "[351, 400]\n",
      "[376, 400]\n",
      "[389, 400]\n",
      "[395, 400]\n",
      "[398, 400]\n",
      "[400, 400]\n",
      "1 =======================\n",
      "[1, 199]\n",
      "[1, 99]\n",
      "[1, 49]\n",
      "[1, 24]\n",
      "[1, 11]\n",
      "[1, 5]\n",
      "[1, 2]\n",
      "===============================\n",
      "[8, 7]\n",
      "#1 B\n"
     ]
    }
   ],
   "source": [
    "T = int(input())\n",
    "\n",
    "for idx in range(1,T+1):\n",
    "    \n",
    "    P, Pa, Pb = map(int, input().split())\n",
    "     \n",
    "    how_deep = [0,0]\n",
    "\n",
    "    for i, key in enumerate([Pa, Pb]):\n",
    "\n",
    "        print(key,\"=======================\")\n",
    "        \n",
    "        l = 1\n",
    "        r = P\n",
    "\n",
    "        while l<=r:\n",
    "            c = int((r+l)/2)\n",
    "            if c == key:\n",
    "                break\n",
    "            elif c < key:\n",
    "                l = c + 1\n",
    "                how_deep[i] += 1\n",
    "            else:\n",
    "                r = c - 1\n",
    "                how_deep[i] += 1\n",
    "                \n",
    "            print([l,r])\n",
    "            \n",
    "            \n",
    "    print(\"===============================\")\n",
    "    print(how_deep)\n",
    "\n",
    "    winner = \"\"\n",
    "    \n",
    "    if how_deep[0]-how_deep[1] < 0:\n",
    "        winner = \"A\"\n",
    "    elif how_deep[0]-how_deep[1] > 0:\n",
    "        winner = \"B\"\n",
    "    else:\n",
    "        winner = \"0\"\n",
    "            \n",
    "    print(\"#%d\"%idx, winner)\n",
    "    \n",
    "# 400과 1은 같은 층에 있는데"
   ]
  },
  {
   "cell_type": "code",
   "execution_count": 36,
   "metadata": {},
   "outputs": [
    {
     "name": "stdout",
     "output_type": "stream",
     "text": [
      "1\n",
      "400 400 1\n",
      "#1 0\n"
     ]
    }
   ],
   "source": [
    "T = int(input())\n",
    "\n",
    "for idx in range(1,T+1):\n",
    "    \n",
    "    P, Pa, Pb = map(int, input().split())\n",
    "     \n",
    "    how_deep = [0,0]\n",
    "\n",
    "    for i, key in enumerate([Pa, Pb]):\n",
    "\n",
    "#         print(key,\"=======================\")\n",
    "        \n",
    "        l = 1\n",
    "        r = P\n",
    "        \n",
    "        deep = 0\n",
    "        max_deep = 0\n",
    "        \n",
    "        while 2**max_deep < P:\n",
    "            max_deep += 1\n",
    "\n",
    "\n",
    "        while l<r and deep < max_deep-1:\n",
    "            c = int((r+l)/2)\n",
    "            if c == key:\n",
    "                break\n",
    "            elif c < key:\n",
    "                l = c\n",
    "                how_deep[i] += 1\n",
    "            else:\n",
    "                r = c\n",
    "                how_deep[i] += 1\n",
    "            \n",
    "            deep += 1\n",
    "            \n",
    "#             print([l,r], how_deep[i])\n",
    "            \n",
    "            \n",
    "#     print(\"===============================\")\n",
    "#     print(how_deep)\n",
    "\n",
    "    winner = \"\"\n",
    "    \n",
    "    if how_deep[0]-how_deep[1] < 0:\n",
    "        winner = \"A\"\n",
    "    elif how_deep[0]-how_deep[1] > 0:\n",
    "        winner = \"B\"\n",
    "    else:\n",
    "        winner = \"0\"\n",
    "            \n",
    "    print(\"#%d\"%idx, winner)"
   ]
  },
  {
   "cell_type": "markdown",
   "metadata": {},
   "source": [
    "### 특별한 정렬"
   ]
  },
  {
   "cell_type": "code",
   "execution_count": 6,
   "metadata": {},
   "outputs": [
    {
     "name": "stdout",
     "output_type": "stream",
     "text": [
      "1\n",
      "10\n",
      "1 2 3 4 5 6 7 8 9 10\n",
      "#10 10 1 9 2 8 3 7 4 6 5\n"
     ]
    }
   ],
   "source": [
    "T = int(input())\n",
    "\n",
    "for case in range(1,T+1):\n",
    "    \n",
    "    N = int(input())\n",
    "    \n",
    "    num_list = list(map(int,input().split()))\n",
    "    \n",
    "    for i in range(N-1):\n",
    "        idx = i\n",
    "        if i%2 == 0:\n",
    "            for j in range(i+1,N):\n",
    "                if num_list[idx] < num_list[j]:\n",
    "                    idx = j\n",
    "            num_list[i], num_list[idx] = num_list[idx], num_list[i]\n",
    "        else:\n",
    "            for j in range(i+1,N):\n",
    "                if num_list[idx] > num_list[j]:\n",
    "                    idx = j\n",
    "            num_list[i], num_list[idx] = num_list[idx], num_list[i]\n",
    "    \n",
    "    print(\"#%d\"%case, \" \".join(map(str,num_list[:10])))"
   ]
  }
 ],
 "metadata": {
  "kernelspec": {
   "display_name": "Python 3",
   "language": "python",
   "name": "python3"
  },
  "language_info": {
   "codemirror_mode": {
    "name": "ipython",
    "version": 3
   },
   "file_extension": ".py",
   "mimetype": "text/x-python",
   "name": "python",
   "nbconvert_exporter": "python",
   "pygments_lexer": "ipython3",
   "version": "3.6.6"
  }
 },
 "nbformat": 4,
 "nbformat_minor": 2
}
