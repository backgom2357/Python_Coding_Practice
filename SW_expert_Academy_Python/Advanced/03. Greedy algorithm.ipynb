{
 "cells": [
  {
   "cell_type": "markdown",
   "metadata": {},
   "source": [
    "# 01. 탐욕 알고리즘\n",
    "\n",
    "- 최적화 문제를 해결하는 알고리즘 : 최적해를 구하는 근시안적인 방법\n",
    "- 여러 해가 있을 수 있음. The 최적해가 아니라 an 최적해를 구하는 것\n",
    "- 머리 속에 떠오르는 것을 검증없이 바로 구현할 경우 Greedy접근이 됨\n",
    "- 탐욕 알고리즘\n",
    "    - 여러 경우 중 하나 선택\n",
    "    - 선택시 마다 최적이라고 생각되는 것을 선택\n",
    "    - 최종 해답에 도달\n",
    "- 한번 선택된 것은 번복하지 않음\n",
    "- 각 선택의 시점에서 이루어지는 결정은 지역적으로 최적\n",
    "- 동작 과정\n",
    "    1. 해 선택\n",
    "        - 현재 상태에서 부분 문제의 최적해를 구한 뒤, 부분 해 집합에 추가\n",
    "        - 하나의 선택이 이루어 지면 새로운 부분 문제 발생\n",
    "    2. 실행 가능성 검사 실시\n",
    "        - 새로운 부분 해 집합의 실행 가능 여부 확인\n",
    "        - 문제의 제약 조건 위반 검사\n",
    "    3. 해 검사\n",
    "        - 새로운 부분 해 집합이 문제의 해가 되는지 확인\n",
    "        - 전체 문제의 해가 완성되지 않았다면 1의 해부터 다시 시작."
   ]
  },
  {
   "cell_type": "markdown",
   "metadata": {},
   "source": [
    "# 02. 동전 거스름돈 문제\n",
    "\n",
    "탐욕 알고리즘으로 찾을 수 있으나 최적해를 구하지 못함\n",
    "<br>\n",
    "\n",
    "완전 검색으로 가능"
   ]
  },
  {
   "cell_type": "markdown",
   "metadata": {},
   "source": [
    "# 03. 배낭 문제\n",
    "탐욕 알고리즘으로 찾을 수 있으나 최적해를 구하지 못함\n",
    "<br>\n",
    "\n",
    "완전 검색으로 가능"
   ]
  },
  {
   "cell_type": "markdown",
   "metadata": {},
   "source": [
    "# 04. 활동 선택 문제\n",
    "\n",
    "탐욕 기법을 적용한 반복 알고리즘\n",
    "```\n",
    "A: 정렬된 활동들의 집합\n",
    "S: 선택된 활동들의 집합\n",
    "s_i: 시작 시간, f_i: 종료 시간, 1 <= i <= n\n",
    "\n",
    "S = {a_1}\n",
    "j = 1\n",
    "for i in range(2, n+1):\n",
    "    if s_i >= f_j:\n",
    "        S = S ∪ {a_i}\n",
    "        j = i\n",
    "```\n",
    "\n",
    "1. 종료 시간이 빠른 순서로 활동들 정렬\n",
    "2. 첫 번쨰 활동을 선택하고 해집합에 포함\n",
    "3. 선택한 활동의 종료시간보다 빠른 시작 시간을 가지는 활동 모두 제거\n",
    "4. 남은 활동들에 대해 앞의 과정 반복\n",
    "\n",
    "\n",
    "재귀 알고리즘\n",
    "```\n",
    "A: 정렬된 활동들의 집합\n",
    "S: 선택된 활동들의 집합\n",
    "s_i: 시작 시간, f_i: 종료 시간, 1 <= i <= n\n",
    "\n",
    "Recursive_Selection(i,j):\n",
    "    m = i +1\n",
    "    while m <= j and S_m < f_i:     # 종료 시간이 가장 빠른 활동 선택\n",
    "        m = m + 1\n",
    "        \n",
    "    if m <= j: return {a_m} ∪ Recursive_Selection(m,j)\n",
    "    else: return  {}      # 공집합\n",
    "```\n",
    "\n",
    "- 탐욕 알고리즘이 최적해를 구하게 하는 조건\n",
    "    - 탐욕적 선택이 최적으로 갈 수 있어야 함\n",
    "    - [원문제의 최적해 = 탐욕적 선택 + 하위 문제의 최적해] 가 성립되야함\n",
    "    \n",
    "- 탐욕 기법과 동적 계획법의 비교\n",
    "    - 탐욕 기법\n",
    "        - 매 단계에서, 가장 좋아 보이는 것을 빠르게 선택 -> 지역 최적 선택\n",
    "        - 하위 문제를 풀기 전에 선택이 먼저 이루어짐\n",
    "        - Top-down 방식\n",
    "        - 일반적으로, 빠르고 간결하다.\n",
    "    - 동적 계획법\n",
    "        - 매 단계의 선택은 해결한 하위 문제의 해를 기반으로 한다.\n",
    "        - 하위 문제가 우선 해결된다.\n",
    "        - Bottom-up 방식\n",
    "        - 좀더 느리고, 복잡하다.\n",
    "      "
   ]
  },
  {
   "cell_type": "markdown",
   "metadata": {},
   "source": [
    "### 컨테이너 운반"
   ]
  },
  {
   "cell_type": "code",
   "execution_count": 1,
   "metadata": {},
   "outputs": [
    {
     "ename": "FileNotFoundError",
     "evalue": "[Errno 2] No such file or directory: 'cases.txt'",
     "output_type": "error",
     "traceback": [
      "\u001b[1;31m---------------------------------------------------------------------------\u001b[0m",
      "\u001b[1;31mFileNotFoundError\u001b[0m                         Traceback (most recent call last)",
      "\u001b[1;32m<ipython-input-1-47bd7a7330e2>\u001b[0m in \u001b[0;36m<module>\u001b[1;34m\u001b[0m\n\u001b[0;32m      1\u001b[0m \u001b[1;31m# T = int(input())\u001b[0m\u001b[1;33m\u001b[0m\u001b[1;33m\u001b[0m\u001b[0m\n\u001b[0;32m      2\u001b[0m \u001b[1;33m\u001b[0m\u001b[0m\n\u001b[1;32m----> 3\u001b[1;33m \u001b[0mf\u001b[0m \u001b[1;33m=\u001b[0m \u001b[0mopen\u001b[0m\u001b[1;33m(\u001b[0m\u001b[1;34m\"cases.txt\"\u001b[0m\u001b[1;33m,\u001b[0m \u001b[1;34m\"r\"\u001b[0m\u001b[1;33m)\u001b[0m\u001b[1;33m\u001b[0m\u001b[0m\n\u001b[0m\u001b[0;32m      4\u001b[0m \u001b[0mT\u001b[0m \u001b[1;33m=\u001b[0m \u001b[0mint\u001b[0m\u001b[1;33m(\u001b[0m\u001b[0mf\u001b[0m\u001b[1;33m.\u001b[0m\u001b[0mreadline\u001b[0m\u001b[1;33m(\u001b[0m\u001b[1;33m)\u001b[0m\u001b[1;33m)\u001b[0m\u001b[1;33m\u001b[0m\u001b[0m\n\u001b[0;32m      5\u001b[0m \u001b[1;33m\u001b[0m\u001b[0m\n",
      "\u001b[1;31mFileNotFoundError\u001b[0m: [Errno 2] No such file or directory: 'cases.txt'"
     ]
    }
   ],
   "source": [
    "# T = int(input())\n",
    "\n",
    "f = open(\"cases.txt\", \"r\")\n",
    "T = int(f.readline())\n",
    "\n",
    "for case in range(1, T+1):\n",
    "\n",
    "    N, M = map(int, f.readline().split())\n",
    "\n",
    "    containers = list(map(int, f.readline().split()))\n",
    "\n",
    "    trucks = list(map(int, f.readline().split()))\n",
    "\n",
    "    weight = 0\n",
    "\n",
    "    containers.sort(reverse=True)\n",
    "    trucks.sort(reverse=True)\n",
    "\n",
    "    for w in containers:\n",
    "        for t in trucks:\n",
    "            if t >= w:\n",
    "                weight += w\n",
    "                trucks.remove(t)\n",
    "                break\n",
    "\n",
    "    print(\"#%d\"%case, weight)\n",
    "\n",
    "\n",
    "\n",
    "f.close()"
   ]
  },
  {
   "cell_type": "markdown",
   "metadata": {},
   "source": [
    "### 화물 도크"
   ]
  },
  {
   "cell_type": "code",
   "execution_count": 5,
   "metadata": {},
   "outputs": [
    {
     "data": {
      "text/plain": [
       "[(1, 2), (3, 7), (4, 5), (7, 8)]"
      ]
     },
     "execution_count": 5,
     "metadata": {},
     "output_type": "execute_result"
    }
   ],
   "source": [
    "# T = int(input())\n",
    "\n",
    "f = open(\"cases.txt\", \"r\")\n",
    "T = int(f.readline())\n",
    "\n",
    "for case in range(1, T+1):\n",
    "\n",
    "    N = int(f.readline())\n",
    "\n",
    "    possible = 0\n",
    "\n",
    "    trucks = [tuple(map(int, f.readline().split())) for _ in range(N)]\n",
    "\n",
    "    current_time = 0\n",
    "\n",
    "    trucks.sort()\n",
    "\n",
    "\n",
    "    for truck in trucks:\n",
    "\n",
    "        if truck[0] >= current_time:\n",
    "            current_time = truck[1]\n",
    "            possible += 1\n",
    "\n",
    "        if truck[1] < current_time:\n",
    "            current_time = truck[1]\n",
    "\n",
    "\n",
    "    print(\"#%d\"%case, possible)\n",
    "\n",
    "\n",
    "\n",
    "f.close()"
   ]
  },
  {
   "cell_type": "markdown",
   "metadata": {},
   "source": [
    "### 베이비진 게임"
   ]
  },
  {
   "cell_type": "code",
   "execution_count": 10,
   "metadata": {},
   "outputs": [],
   "source": [
    "# T = int(input())\n",
    "\n",
    "f = open(\"cases.txt\", \"r\")\n",
    "T = int(f.readline())\n",
    "\n",
    "def insert_and_sort(num, p):\n",
    "\n",
    "    player[p].append(num)\n",
    "    player[p].sort()\n",
    "\n",
    "def check_run_triplet(arr, p):\n",
    "    for i in range(len(arr)-2):\n",
    "        if arr[i] == arr[i+1] == arr[i+2]:\n",
    "            return p+1\n",
    "    set_arr = list(set(arr))\n",
    "    for i in range(len(set_arr)-2):\n",
    "        if set_arr[i] == set_arr[i+1] - 1 == set_arr[i+2] - 2:\n",
    "            return p+1\n",
    "    return 0\n",
    "\n",
    "for case in range(1, T+1):\n",
    "\n",
    "    nums = list(map(int, f.readline().split()))\n",
    "\n",
    "    player = [[], []]\n",
    "\n",
    "    winner = 0\n",
    "\n",
    "    count = 0\n",
    "\n",
    "    for n in range(len(nums)):\n",
    "\n",
    "        p = n % 2\n",
    "\n",
    "        insert_and_sort(nums[n], p)\n",
    "\n",
    "        winner = check_run_triplet(player[p], p)\n",
    "\n",
    "        if winner != 0:\n",
    "            break\n",
    "\n",
    "\n",
    "    print(\"#%d\"%case, winner)\n",
    "\n",
    "\n",
    "f.close()"
   ]
  }
 ],
 "metadata": {
  "kernelspec": {
   "display_name": "Python 3",
   "language": "python",
   "name": "python3"
  },
  "language_info": {
   "codemirror_mode": {
    "name": "ipython",
    "version": 3
   },
   "file_extension": ".py",
   "mimetype": "text/x-python",
   "name": "python",
   "nbconvert_exporter": "python",
   "pygments_lexer": "ipython3",
   "version": "3.6.6"
  }
 },
 "nbformat": 4,
 "nbformat_minor": 2
}
