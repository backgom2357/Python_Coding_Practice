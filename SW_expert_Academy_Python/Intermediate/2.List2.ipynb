{
 "cells": [
  {
   "cell_type": "markdown",
   "metadata": {},
   "source": [
    "# List 2"
   ]
  },
  {
   "cell_type": "markdown",
   "metadata": {},
   "source": [
    "## 2차원 List 구조\n",
    "\n",
    " - 2차원 List 구조\n",
    "     - 1차원 List를 묶어놓은 List\n",
    "     - 2차원 이상의 다차원 List는 차원에 따라 Index를 선언\n",
    "     - 2차원 List의 선언 : 세로길이(행의 개수), 가로길이(열의 개수)를 필요로 함"
   ]
  },
  {
   "cell_type": "code",
   "execution_count": null,
   "metadata": {},
   "outputs": [],
   "source": [
    "# List 초기화시 유의사항\n",
    "\n",
    "a1 = [0,0,0,0,0]\n",
    "b1 = [0]*5\n",
    "c1 = [0 for i in range(5)]\n",
    "\n",
    "a1[2] = 777\n",
    "b1[2] = 777\n",
    "c1[2] = 777\n",
    "\n",
    "print(\"1차원\")\n",
    "print(\"a1 : \", a1)\n",
    "print(\"b1 : \", b1)\n",
    "print(\"c1 : \", c1)\n",
    "\n",
    "a2 = [[1,2,3],[1,2,3],[1,2,3]]\n",
    "b2 = [[1,2,3]]*3\n",
    "c2 = [[1,2,3] for i in range(3)]\n",
    "\n",
    "a2[2][2] = 777\n",
    "b2[2][2] = 777\n",
    "c2[2][2] = 777\n",
    "\n",
    "print(\"2차원\")\n",
    "print(\"a2 : \", a2)\n",
    "print(\"a2 : \", b2)\n",
    "print(\"a2 : \", c2)\n",
    "\n",
    "# 곱셈을 통한 리스트 생성은 2차에서 같은 주소를 쓰는 듯 하다."
   ]
  },
  {
   "cell_type": "code",
   "execution_count": null,
   "metadata": {},
   "outputs": [],
   "source": [
    "# 2차원 list 입력 받기(1)\n",
    "\n",
    "n, m = map(int, input().split())\n",
    "\n",
    "mylist=[0 for _ in range(n)]\n",
    "# mylist = [0]*n\n",
    "\n",
    "for i in range(n):\n",
    "    mylist[i] = list(map(int, input().split()))"
   ]
  },
  {
   "cell_type": "code",
   "execution_count": null,
   "metadata": {},
   "outputs": [],
   "source": [
    "# 2차원 list 입력 받기(2)\n",
    "\n",
    "n, m = map(int, input().split())\n",
    "\n",
    "mylist = []\n",
    "\n",
    "for i in range(n):\n",
    "    mylist.append(list(map(int, input().split())))"
   ]
  },
  {
   "cell_type": "code",
   "execution_count": null,
   "metadata": {},
   "outputs": [],
   "source": [
    "# 2차원 list 입력 받기(3)\n",
    "\n",
    "n, m = map(int, input().split())\n",
    "\n",
    "mylist = [list(map(int,input().split())) for _ in range(n)]"
   ]
  },
  {
   "cell_type": "code",
   "execution_count": null,
   "metadata": {},
   "outputs": [],
   "source": [
    "# 2차원 list에서 원하는 데이터의 위치 찾기(1)\n",
    "# 주어진 데이터에서 1이 입력된 [행,렬]의 위치 찾기\n",
    "\n",
    "n. m = map(int, input().split())\n",
    "newlist =  []\n",
    "mylist = [0 for _ in range(n)]\n",
    "for i in range(n):\n",
    "    mylist[i]=list(map(int,input().split()))\n",
    "    for j in range(m):\n",
    "        if mylist[i][j] == 1:\n",
    "            newlist.append([i,j])"
   ]
  },
  {
   "cell_type": "code",
   "execution_count": null,
   "metadata": {},
   "outputs": [],
   "source": [
    "# 2차원 list에서 원하는 데이터의 위치 찾기(2)\n",
    "# 주어진 데이터에서 1이 입력된 [행,렬]의 위치 찾기\n",
    "\n",
    "n. m = map(int, input().split())\n",
    "mylist = [list(map(int,input().split()))for _ in range(n)]\n",
    "newlist = [(i,j) for i in range(n) for j in range(m) if mylist[i][j]==1]"
   ]
  },
  {
   "cell_type": "markdown",
   "metadata": {},
   "source": [
    " - 2차원 List 순회\n",
    "     - 행 우선 순회\n",
    "     - 열 우선 순회\n",
    "     - 지그재그 순회"
   ]
  },
  {
   "cell_type": "code",
   "execution_count": null,
   "metadata": {},
   "outputs": [],
   "source": [
    "# 지그재그 순회\n",
    "\n",
    "# i : 행의 좌표, n = len(arr)\n",
    "# j : 열의 좌표, m = len(arr[0])\n",
    "\n",
    "for i in range(len(arr)):\n",
    "    for j in range(len(arr[0])):\n",
    "        arr[i][j+(m-1-2*j)*(i%2)]\n",
    "        # 필요한 연산 수행"
   ]
  },
  {
   "cell_type": "markdown",
   "metadata": {},
   "source": [
    " - 델타를 이용한 2차 List 탐색\n",
    "     - 2차 List의 한 좌표에서 네 방향의 인접 List요소를 탐색할 때 사용하는 방법\n",
    "     - 델타 값은 한 좌표에서 네 방향의 좌표와 x, y의 차이를 저장한 List로 구현\n",
    "     - 델타 값을 이용하여 특정 원소의 상하좌우에 위치한 원소에 접근할 수 있음\n",
    "     - Tip: 2차원 List의 가장자리 원소들은 상하좌우 네 방향에 원소가 존재하지 않을 경우가 있으므로, index를 체크하거나 Index의 범위를 제한해야 함"
   ]
  },
  {
   "cell_type": "code",
   "execution_count": null,
   "metadata": {},
   "outputs": [],
   "source": [
    "# arr[0...n-1][0...n-1] : 2차원 List\n",
    "dx = [0, 0, -1, 1]\n",
    "dy = [-1, 1, 0, 0]\n",
    "\n",
    "for x in range(len(arr)):\n",
    "    for y in range(len(arr[x])):\n",
    "        print((x,y),\"cordinate\")\n",
    "        for i in range(4):\n",
    "            testX = x + dx[i]\n",
    "            testY = y + dy[i]\n",
    "            print(arr[testX][testY])"
   ]
  },
  {
   "cell_type": "markdown",
   "metadata": {},
   "source": [
    " - 전치 행렬 : 행과 열의 값이 반대인 행렬을 의미\n",
    "     - zip(iterable \\*) : 동일한 개수로 이루어진 자료형들을 묶어주는 역할을 하는 함수"
   ]
  },
  {
   "cell_type": "code",
   "execution_count": 1,
   "metadata": {
    "tags": []
   },
   "outputs": [
    {
     "output_type": "stream",
     "name": "stdout",
     "text": "[[1, 4, 7, 10], [2, 5, 8, 11], [3, 6, 9, 12]]\n"
    }
   ],
   "source": [
    "# zip을 이용한 Transpose\n",
    "arr = [[1,2,3],[4,5,6],[7,8,9],[10,11,12]]\n",
    "print(list(map(list,zip(*arr))))"
   ]
  },
  {
   "cell_type": "markdown",
   "metadata": {},
   "source": [
    "### Python의 Asterisk(*) \n",
    "1. 곱셈 및 거듭제곱 연산으로 사용할 때\n",
    "2. 리스트형 컨테이너 탑입의 데이터를 반복 확장하고자 할 때\n",
    "3. 가변인자(Variadic Parameters)를 사용하고자 할 때\n",
    "4. 컨테이너 타입의 데이터를 Unpacking 할 때"
   ]
  },
  {
   "cell_type": "code",
   "execution_count": 5,
   "metadata": {
    "tags": []
   },
   "outputs": [
    {
     "output_type": "stream",
     "name": "stdout",
     "text": "6\n8\n1.9993959999999997\n1.6320575353248798\n"
    }
   ],
   "source": [
    "# 1. 곱셈 및 거듭제곱 연산으로 사용할 때\n",
    "print(2 * 3)\n",
    "print(2 ** 3)\n",
    "print(1.414 * 1.414)\n",
    "print(1.414 ** 1.414)"
   ]
  },
  {
   "cell_type": "code",
   "execution_count": null,
   "metadata": {},
   "outputs": [],
   "source": [
    "# 2. 리스트형 컨테이너 탑입의 데이터를 반복 확장하고자 할 때\n",
    "# 길이 100의 제로값 리스트 초기화\n",
    "zeros_list = [0] * 100\n",
    "\n",
    "# 길이 100의 제로값 튜플 선언\n",
    "zeros_tuple = (0,) * 100\n",
    "\n",
    "# 리스트 3배 확장 후 연산\n",
    "vector_list = [[1, 2, 3]]\n",
    "for i, vector in enumerate(vector_list * 3):\n",
    "    print(\"{0} scalar product of vector: {1}\".format((i + 1), [(i + 1) * e for e in vector]))"
   ]
  },
  {
   "cell_type": "code",
   "execution_count": 7,
   "metadata": {
    "tags": []
   },
   "outputs": [
    {
     "output_type": "stream",
     "name": "stdout",
     "text": "('ming', 'alice', 'tom')\n{'fourth': 'wilson', 'fifth': 'roy'}\n"
    }
   ],
   "source": [
    "# 3. 가변인자(Variadic Parameters)를 사용하고자 할 때\n",
    "def save_ranking(*args, **kwargs): # **kwargs가 *args 앞에오면 에러가 남\n",
    "    print(args)\n",
    "    print(kwargs)\n",
    "save_ranking('ming', 'alice', 'tom', fourth='wilson', fifth='roy')"
   ]
  },
  {
   "cell_type": "markdown",
   "metadata": {},
   "source": [
    "- 가변인자(Variadic Parameters)\n",
    "\n",
    "파이썬에서는 인자의 종류가 2가지가 있는데 하나는 positional arguments이고, 하나는 keyword arguments이다. 전자는 말그대로 위치에 따라 정해지는 인자이며, 후자는 키워드를 가진 즉, 이름을 가진 인자를 말한다.\n",
    "\n",
    "[참고링크](https://mingrammer.com/understanding-the-asterisk-of-python/)"
   ]
  },
  {
   "cell_type": "code",
   "execution_count": 16,
   "metadata": {
    "tags": []
   },
   "outputs": [
    {
     "output_type": "stream",
     "name": "stdout",
     "text": "30030\n[2, 3, 5, 7, 11, 13]\n"
    }
   ],
   "source": [
    "# 4. 컨테이너 타입의 데이터를 Unpacking 할 때\n",
    "from functools import reduce\n",
    "\n",
    "primes = [2, 3, 5, 7, 11, 13]\n",
    "\n",
    "def product(*numbers):\n",
    "    p = reduce(lambda x, y: x*y, numbers)\n",
    "    return p\n",
    "\n",
    "print(product(*primes)) \n",
    "# (((((2*3)*5)*7)*11)*13) = 30030\n",
    "\n",
    "print(product(primes))\n",
    "# [2, 3, 5, 7, 11, 13]"
   ]
  },
  {
   "cell_type": "code",
   "execution_count": 17,
   "metadata": {
    "tags": []
   },
   "outputs": [
    {
     "output_type": "stream",
     "name": "stdout",
     "text": "content length:  348\n"
    },
    {
     "output_type": "error",
     "ename": "ValueError",
     "evalue": "You must use SSL for http communication",
     "traceback": [
      "\u001b[0;31m---------------------------------------------------------------------------\u001b[0m",
      "\u001b[0;31mValueError\u001b[0m                                Traceback (most recent call last)",
      "\u001b[0;32m<ipython-input-17-a90db3d12c8f>\u001b[0m in \u001b[0;36m<module>\u001b[0;34m\u001b[0m\n\u001b[1;32m     13\u001b[0m         \u001b[0;32mraise\u001b[0m \u001b[0mValueError\u001b[0m\u001b[0;34m(\u001b[0m\u001b[0;34m'You must use SSL for http communication'\u001b[0m\u001b[0;34m)\u001b[0m\u001b[0;34m\u001b[0m\u001b[0;34m\u001b[0m\u001b[0m\n\u001b[1;32m     14\u001b[0m \u001b[0;34m\u001b[0m\u001b[0m\n\u001b[0;32m---> 15\u001b[0;31m \u001b[0mpre_process\u001b[0m\u001b[0;34m(\u001b[0m\u001b[0;34m**\u001b[0m\u001b[0mheaders\u001b[0m\u001b[0;34m)\u001b[0m\u001b[0;34m\u001b[0m\u001b[0;34m\u001b[0m\u001b[0m\n\u001b[0m",
      "\u001b[0;32m<ipython-input-17-a90db3d12c8f>\u001b[0m in \u001b[0;36mpre_process\u001b[0;34m(**headers)\u001b[0m\n\u001b[1;32m     11\u001b[0m     \u001b[0mhost\u001b[0m \u001b[0;34m=\u001b[0m \u001b[0mheaders\u001b[0m\u001b[0;34m[\u001b[0m\u001b[0;34m'Host'\u001b[0m\u001b[0;34m]\u001b[0m\u001b[0;34m\u001b[0m\u001b[0;34m\u001b[0m\u001b[0m\n\u001b[1;32m     12\u001b[0m     \u001b[0;32mif\u001b[0m \u001b[0;34m'https'\u001b[0m \u001b[0;32mnot\u001b[0m \u001b[0;32min\u001b[0m \u001b[0mhost\u001b[0m\u001b[0;34m:\u001b[0m\u001b[0;34m\u001b[0m\u001b[0;34m\u001b[0m\u001b[0m\n\u001b[0;32m---> 13\u001b[0;31m         \u001b[0;32mraise\u001b[0m \u001b[0mValueError\u001b[0m\u001b[0;34m(\u001b[0m\u001b[0;34m'You must use SSL for http communication'\u001b[0m\u001b[0;34m)\u001b[0m\u001b[0;34m\u001b[0m\u001b[0;34m\u001b[0m\u001b[0m\n\u001b[0m\u001b[1;32m     14\u001b[0m \u001b[0;34m\u001b[0m\u001b[0m\n\u001b[1;32m     15\u001b[0m \u001b[0mpre_process\u001b[0m\u001b[0;34m(\u001b[0m\u001b[0;34m**\u001b[0m\u001b[0mheaders\u001b[0m\u001b[0;34m)\u001b[0m\u001b[0;34m\u001b[0m\u001b[0;34m\u001b[0m\u001b[0m\n",
      "\u001b[0;31mValueError\u001b[0m: You must use SSL for http communication"
     ]
    }
   ],
   "source": [
    "# dict\n",
    "headers = {\n",
    "    'Accept': 'text/plain',\n",
    "    'Content-Length': 348,\n",
    "    'Host': 'http://mingrammer.com'\n",
    "}\n",
    "\n",
    "def pre_process(**headers):\n",
    "    content_length = headers['Content-Length']\n",
    "    print('content length: ', content_length)\n",
    "\n",
    "    host = headers['Host']\n",
    "    if 'https' not in host:\n",
    "        raise ValueError('You must use SSL for http communication')\n",
    "\n",
    "pre_process(**headers)"
   ]
  },
  {
   "cell_type": "code",
   "execution_count": null,
   "metadata": {},
   "outputs": [],
   "source": [
    "numbers = [1, 2, 3, 4, 5, 6]\n",
    "\n",
    "# unpacking의 좌변은 리스트 또는 튜플의 형태를 가져야하므로 단일 unpacking의 경우 *a가 아닌 *a,를 사용\n",
    "*a, = numbers\n",
    "# a = [1, 2, 3, 4, 5, 6]\n",
    "\n",
    "*a, b = numbers\n",
    "# a = [1, 2, 3, 4, 5]\n",
    "# b = 6\n",
    "\n",
    "a, *b, = numbers\n",
    "# a = 1\n",
    "# b = [2, 3, 4, 5, 6]\n",
    "\n",
    "a, *b, c = numbers\n",
    "# a = 1\n",
    "# b = [2, 3, 4, 5]\n",
    "# c = 6"
   ]
  },
  {
   "cell_type": "markdown",
   "metadata": {},
   "source": [
    "## 부분 집합\n",
    "\n",
    "- 부분 집합의 합 문제 : 유한 개의 정수로 이루어진 집합이 있을 때, 이 집합의 부분 집합 중에서 그 집합의 원소를 모두 더한 값이 0이 되는 경우가 있는지를 알아내는 문제"
   ]
  },
  {
   "cell_type": "code",
   "execution_count": null,
   "metadata": {},
   "outputs": [],
   "source": [
    "# 부분 집합 문제 알고리즘1\n",
    "\n",
    "bit = [0,0,0,0]\n",
    "for i in range(2):\n",
    "    bit[0] = i\n",
    "    for j in range(2):\n",
    "        bit[1] = j\n",
    "        for k in range(2):\n",
    "            bit[2] = k\n",
    "            for l in range(2):\n",
    "                bit[3] = l\n",
    "                print(bit)"
   ]
  },
  {
   "cell_type": "markdown",
   "metadata": {},
   "source": [
    " - 비트 연산자 : 0과 1로 이루어진 이진수에 대한 연산을 수행하는 연산자\n",
    "    - & : 비트 단위로 AND 연산을 함\n",
    "    - | : 비트 단위로 OR 연산을 함\n",
    "    - << : 피연산자의 비트열을 왼쪽으로 이동시킴\n",
    "    - \\>> : 피연산자의 비트열을 오른쪽으로 이동시킴\n",
    "    \n",
    "    - 1<<n : $2^n$ 원소가 n개일 경우 모든 부분집합의 수\n",
    "    - i&(1<<j): 1 i에서 j번째 비트가 1인지 아닌지를 리턴\n",
    "    "
   ]
  },
  {
   "cell_type": "code",
   "execution_count": 18,
   "metadata": {
    "tags": []
   },
   "outputs": [
    {
     "output_type": "stream",
     "name": "stdout",
     "text": "\n1,\n2,\n1,2,\n3,\n1,3,\n2,3,\n1,2,3,\n4,\n1,4,\n2,4,\n1,2,4,\n3,4,\n1,3,4,\n2,3,4,\n1,2,3,4,\n"
    }
   ],
   "source": [
    "# 부분 집합 문제 알고리즘2\n",
    "\n",
    "arr = [1,2,3,4]\n",
    "n = len(arr)\n",
    "\n",
    "for i in range(1<<n):\n",
    "    for j in range(n):\n",
    "        if i&(1<<j):\n",
    "            print(arr[j],end=\",\")\n",
    "    print() "
   ]
  },
  {
   "cell_type": "markdown",
   "metadata": {},
   "source": [
    "## 검색\n",
    "\n",
    " - 검색 : 저장되어 있는 자료 중에서 원하는 항목을 찾는 작업\n",
    "     - 원하는 항목 : 목적하는 탐색키를 가진 항목\n",
    "         - 탐색키 : 자료를 구별하여 인식할 수 있는 키\n",
    " - 검색의 종류\n",
    "     - 순차 검색(Sequential Search)\n",
    "     - 이진 검색(Binary Search)\n",
    "     - 인덱싱(Indexing)\n",
    "     \n",
    " - 순차 검색\n",
    "     - 일렬로 되어 있는 자료를 순서대로 검색하는 방법\n",
    "     - List나 연결 List 등 순차구조로 구현된 자료구조에서 유용함\n",
    "     - 구현이 쉽지만, 검색 대상이 많은 경우 수행시간의 증가로 비효율적임\n",
    "     - 2가지 경우가 있음\n",
    "         - 정렬된 경우\n",
    "         - 정렬되지 않은 경우\n",
    "         \n",
    "     - 정렬되지 않은 경우\n",
    "         - 첫번째 원소부터 순서대로 검색대상과 키 값이 같은 원소가 있는지를 비교하여 찾음\n",
    "         - 키 값이 동일한 원소를 찾으면 그 원소의 인덱스를 반환\n",
    "         - 자료구조의 마지막에 갈 때까지 검색 대상을 찾지 못하면 검색 실패\n",
    "         \n",
    "     - 찾고자 하는 원소의 순서에 따른 비교횟수 결정\n",
    "         - 시간 복잡도 : O(n)\n",
    "         \n",
    "     - 정렬된 경우\n",
    "         - 자료가 오름차순으로 정렬된 상태에서 검색을 실시한다고 가정\n",
    "         - 자료를 순차적으로 검색하면서 키 값을 비교함\n",
    "         - 원소의 키 값이 검색 대상의 키 값보다 크면 원소가 없다는 것이므로 더 이상 검색하지 않고 검색을 종료함\n",
    "         - 정렬되어 있으므로, 검색 실패를 반환하는 경우 평균 비교 회수가 크게 줄어듦\n",
    "     - 찾고자 하는 원소의 순서에 따른 비교횟수 결정\n",
    "         - 시간 복잡도 : O(n)"
   ]
  },
  {
   "cell_type": "code",
   "execution_count": null,
   "metadata": {},
   "outputs": [],
   "source": [
    "# 순차검색 (정렬x)\n",
    "def seqentialSearch1(a, n, key):\n",
    "    i = 0\n",
    "    while i<n and a[i]!=key:\n",
    "        i = i + 1\n",
    "        \n",
    "    if i<n: return i\n",
    "    else: return -1\n",
    "    \n",
    "# 순차검색 (정렬o)\n",
    "def seqentialSearch2(a, n, key):\n",
    "    i = 0\n",
    "    while i<n and a[i]<key:\n",
    "        i = i + 1\n",
    "        \n",
    "    if i<n and a[i] == key: return i\n",
    "    else: return -1"
   ]
  },
  {
   "cell_type": "markdown",
   "metadata": {},
   "source": [
    "- 이진 검색\n",
    "    - 자료의 가운데 항목의 키 값과 비교하여 다음 검색의 위치를 결정하고 검색을 계속하는 방법\n",
    "        - 목적 키를 찾을 때까지 이진 검색을 순환적으로 반복 수행함으로써 검색 범위를 반으로 줄여가면서 빠르게 검색을 수행함\n",
    "    - 이진 검색을 하기 위해서는 자료가 정렬된 상태여야 함\n",
    "    - 정렬된 데이터가 n개 있는 경우 시간복잡도\n",
    "        - O(log(n))\n",
    "        \n",
    "    - 이진 검색의 검색 과정\n",
    "        1. 자료의 중앙에 있는 원소를 선택\n",
    "        2. 중앙 원소의 값과 찾고자 하는 목표 값을 비교\n",
    "        3. 목표값 < 중앙 원소 값 : 자료의 왼쪽 반에 대해서 새로 검색을 수행\n",
    "        3. 목표값 \\> 중앙 원소 값 : 자료의 오른쪽 반에 대해서 새로 검색을 수행\n",
    "        4. 찾고자 하는 값을 찾을 때까지 1~3의 과정을 반복\n",
    "        \n",
    "    - 검색 범위의 시작점과 종료점을 이용\n",
    "        - 검색 범위의 시작점과 종료점을 이용하여 검색을 반복 수행함\n",
    "        - 이진 검색의 경우, 자료에 삽입이나 삭제가 발생하였을 때 List의 상태를 항상 정렬 상태로 유지하는 추가 작업이 필요함"
   ]
  },
  {
   "cell_type": "code",
   "execution_count": null,
   "metadata": {},
   "outputs": [],
   "source": [
    "# 이진 검색 알고리즘\n",
    "def binarySearch1(a, key):\n",
    "    start = 0\n",
    "    end = len(a) - 1\n",
    "    while start <= end:\n",
    "        middle = start + (end - start)//2\n",
    "        if key == a[middle]: #검색 성공\n",
    "            return True\n",
    "        elif key < a[middle]:\n",
    "            end = middle - 1\n",
    "        else:\n",
    "            start = middle + 1\n",
    "    return False\n",
    "\n",
    "# 재귀 함수를 이용한 이진 검색 알고리즘\n",
    "def binarySearch2(a, low, high, key):\n",
    "    if low > high: # 검색 실패\n",
    "        return False\n",
    "    else:\n",
    "        middle = (low + high)//2\n",
    "        if key == a[middle]: # 검색 성공\n",
    "            return True\n",
    "        elif key < a[middle]:\n",
    "            return binarySearch2(a, low, middle-1, key)\n",
    "        elif key > a[middle]:\n",
    "            return binarySearch2(a, middle+1, high, key)"
   ]
  },
  {
   "cell_type": "markdown",
   "metadata": {},
   "source": [
    "- 인덱스\n",
    "    - 데이터베이스(Batabase)에서 유래, 테이블에 대한 동작 속도를 높임\n",
    "    - 룩 업 테이블(Look up table)등의 용어로 사용함\n",
    "    - 인덱스를 저장하는데 필요한 디스크 공간은 보통 테이블 저장에 필요한 디스크 공간보다 작음\n",
    "        - 인덱스는 키-필드만 갖고 있고, 테이블의 다른 세부 항복은 갖고 있지 않음\n",
    "    - List를 사용한 인덱스\n",
    "        - 대량의 데이터를 매번 정렬하면, 프로그램의 반응은 느려질 수 밖에 없음. 이러한 대량 데이터의 성능 저하 문제를 해결하기 위해 List인덱스를 사용할 수 있음"
   ]
  },
  {
   "cell_type": "markdown",
   "metadata": {},
   "source": [
    "## 정렬\n",
    "\n",
    "- 셀렉션 알고리즘\n",
    "    - 저장되어 있는 자료부터 k번째로 큰 혹은 작은 원소를 찾는 방법\n",
    "    - 최소값, 최대값 혹은 중간값을 찾는 알고리즘을 의미하기도 함\n",
    "    - 셀렉션 선택 과정\n",
    "        - 정렬 알고리즘을 이용하여 자료를 정렬\n",
    "        - 원하는 순서에 있는 원소 가져오기"
   ]
  },
  {
   "cell_type": "code",
   "execution_count": null,
   "metadata": {},
   "outputs": [],
   "source": [
    "# k번째로 작은 원소를 찾는 알고리즘\n",
    "# k가 작을때 유용, O(kn)의 수행시간을 필요로 함\n",
    "\n",
    "def select(l,k):\n",
    "    for i in range(0,k):\n",
    "        minIndex = i\n",
    "        for j in range(i+1, len(l)):\n",
    "            if l[minIndex] > l[j]:\n",
    "                minIndex = j\n",
    "        l[i], l[minIndex] = l[minIndex], l[i]\n",
    "    return l[k-1]"
   ]
  },
  {
   "cell_type": "markdown",
   "metadata": {},
   "source": [
    "- 선택 정렬\n",
    "    - 주어진 자료들 중 가장 작은 값의 원소부터 차례대로 선택하여 위치를 교환하는 방식\n",
    "    - 셀렉션 알고리즘을 전체 자료에 적용한 것\n",
    "    - 정렬 과정\n",
    "        - 주어진 List중에서 최소값을 찾음\n",
    "        - 그 값을 List의 맨 앞에 위치한 값과 교환\n",
    "        - 맨 처음 위치를 제외한 나머지 List를 대상으로 위의 과정을 반복\n",
    "    - 시간 복잡도\n",
    "        - $O(n^2)$"
   ]
  },
  {
   "cell_type": "code",
   "execution_count": null,
   "metadata": {},
   "outputs": [],
   "source": [
    "# 선택 정렬 알고리즘\n",
    "def selectionSort(a):\n",
    "    for i in range(0,len(a)-1):\n",
    "        min_num = i\n",
    "        for j in range(i+1, len(a)):\n",
    "            if a[min_num] > a[j]:\n",
    "                min_num = j\n",
    "        a[i], a[min_num] = a[min_num], a[i]"
   ]
  },
  {
   "cell_type": "markdown",
   "metadata": {},
   "source": [
    "### 색칠하기"
   ]
  },
  {
   "cell_type": "code",
   "execution_count": null,
   "metadata": {},
   "outputs": [],
   "source": [
    "T = int(input())\n",
    "\n",
    "for idx in range(1,T+1):\n",
    "    \n",
    "    canvas = [[0 for _ in range(10)] for _ in range(10)]\n",
    "    N = int(input())\n",
    "    \n",
    "    for _ in range(N):\n",
    "        colored = list(map(int,input().split()))\n",
    "        for y in range(colored[1],colored[3]+1):\n",
    "            for x in range(colored[0],colored[2]+1):\n",
    "                canvas[y][x] += colored[4]\n",
    "    \n",
    "    purple = 0\n",
    "    \n",
    "    for i in range(10):\n",
    "        for j in range(10):\n",
    "            if canvas[i][j] == 3:\n",
    "                purple += 1\n",
    "#        print(canvas[i])\n",
    "                \n",
    "    print(\"#%d\"%idx, purple)"
   ]
  },
  {
   "cell_type": "code",
   "execution_count": 26,
   "metadata": {
    "tags": []
   },
   "outputs": [
    {
     "output_type": "stream",
     "name": "stdout",
     "text": "#1 4\n"
    }
   ],
   "source": [
    "# 색칠하기 ver2.0\n",
    "\n",
    "T = int(input())\n",
    "\n",
    "for case in range(1, T+1):\n",
    "    N = int(input())\n",
    "    colored_squares = []\n",
    "    for _ in range(N):\n",
    "        colored_squares.append(list(map(int,input().split())))\n",
    "    purple = 0\n",
    "    for i in range(N):\n",
    "        for j in range(i+1,N):\n",
    "            if colored_squares[i][-1] != colored_squares[j][-1]:\n",
    "                if colored_squares[i][0] > colored_squares[j][2]:\n",
    "                    continue\n",
    "                if colored_squares[i][2] < colored_squares[j][0]:\n",
    "                    continue\n",
    "                if colored_squares[i][1] > colored_squares[j][3]:\n",
    "                    continue\n",
    "                if colored_squares[i][3] < colored_squares[j][1]:\n",
    "                    continue\n",
    "                x1 = max(colored_squares[i][0],colored_squares[j][0])\n",
    "                y1 = max(colored_squares[i][1],colored_squares[j][1])\n",
    "                x2 = min(colored_squares[i][2],colored_squares[j][2])\n",
    "                y2 = min(colored_squares[i][3],colored_squares[j][3])\n",
    "                # print(x1,y1,x2,y2)\n",
    "                purple += ((abs(x1-x2)+1)*(abs(y1-y2)+1))\n",
    "    print(\"#%d\"%case, purple)"
   ]
  },
  {
   "cell_type": "markdown",
   "metadata": {},
   "source": [
    "### 부분집합의 합"
   ]
  },
  {
   "cell_type": "code",
   "execution_count": null,
   "metadata": {},
   "outputs": [],
   "source": [
    "T = int(input())\n",
    "\n",
    "arr = [i for i in range(1, 13)]\n",
    "n = len(arr)\n",
    "\n",
    "for case in range(1, T+1):\n",
    "    N, K = map(int, input().split())\n",
    "    \n",
    "    count = 0\n",
    "    \n",
    "    for i in range(1<<n):\n",
    "        tmp = []\n",
    "        for j in range(n):\n",
    "            if i&(1<<j):\n",
    "                tmp.append(arr[j])\n",
    "        if len(tmp) == N and sum(tmp) == K:\n",
    "#            print(tmp)\n",
    "            count += 1\n",
    "    print(\"#%d\"%case, count)"
   ]
  },
  {
   "cell_type": "markdown",
   "metadata": {},
   "source": [
    "### 이진탐색"
   ]
  },
  {
   "cell_type": "code",
   "execution_count": 13,
   "metadata": {},
   "outputs": [
    {
     "name": "stdout",
     "output_type": "stream",
     "text": [
      "1\n",
      "400 400 1\n",
      "400 =======================\n",
      "[201, 400]\n",
      "[301, 400]\n",
      "[351, 400]\n",
      "[376, 400]\n",
      "[389, 400]\n",
      "[395, 400]\n",
      "[398, 400]\n",
      "[400, 400]\n",
      "1 =======================\n",
      "[1, 199]\n",
      "[1, 99]\n",
      "[1, 49]\n",
      "[1, 24]\n",
      "[1, 11]\n",
      "[1, 5]\n",
      "[1, 2]\n",
      "===============================\n",
      "[8, 7]\n",
      "#1 B\n"
     ]
    }
   ],
   "source": [
    "T = int(input())\n",
    "\n",
    "for idx in range(1,T+1):\n",
    "    \n",
    "    P, Pa, Pb = map(int, input().split())\n",
    "     \n",
    "    how_deep = [0,0]\n",
    "\n",
    "    for i, key in enumerate([Pa, Pb]):\n",
    "\n",
    "        print(key,\"=======================\")\n",
    "        \n",
    "        l = 1\n",
    "        r = P\n",
    "\n",
    "        while l<=r:\n",
    "            c = int((r+l)/2)\n",
    "            if c == key:\n",
    "                break\n",
    "            elif c < key:\n",
    "                l = c + 1\n",
    "                how_deep[i] += 1\n",
    "            else:\n",
    "                r = c - 1\n",
    "                how_deep[i] += 1\n",
    "                \n",
    "            print([l,r])\n",
    "            \n",
    "            \n",
    "    print(\"===============================\")\n",
    "    print(how_deep)\n",
    "\n",
    "    winner = \"\"\n",
    "    \n",
    "    if how_deep[0]-how_deep[1] < 0:\n",
    "        winner = \"A\"\n",
    "    elif how_deep[0]-how_deep[1] > 0:\n",
    "        winner = \"B\"\n",
    "    else:\n",
    "        winner = \"0\"\n",
    "            \n",
    "    print(\"#%d\"%idx, winner)\n",
    "    \n",
    "# 400과 1은 같은 층에 있는데"
   ]
  },
  {
   "cell_type": "code",
   "execution_count": 36,
   "metadata": {},
   "outputs": [
    {
     "name": "stdout",
     "output_type": "stream",
     "text": [
      "1\n",
      "400 400 1\n",
      "#1 0\n"
     ]
    }
   ],
   "source": [
    "T = int(input())\n",
    "\n",
    "for idx in range(1,T+1):\n",
    "    \n",
    "    P, Pa, Pb = map(int, input().split())\n",
    "     \n",
    "    how_deep = [0,0]\n",
    "\n",
    "    for i, key in enumerate([Pa, Pb]):\n",
    "\n",
    "#         print(key,\"=======================\")\n",
    "        \n",
    "        l = 1\n",
    "        r = P\n",
    "        \n",
    "        deep = 0\n",
    "        max_deep = 0\n",
    "        \n",
    "        while 2**max_deep < P:\n",
    "            max_deep += 1\n",
    "\n",
    "\n",
    "        while l<r and deep < max_deep-1:\n",
    "            c = int((r+l)/2)\n",
    "            if c == key:\n",
    "                break\n",
    "            elif c < key:\n",
    "                l = c\n",
    "                how_deep[i] += 1\n",
    "            else:\n",
    "                r = c\n",
    "                how_deep[i] += 1\n",
    "            \n",
    "            deep += 1\n",
    "            \n",
    "#             print([l,r], how_deep[i])\n",
    "            \n",
    "            \n",
    "#     print(\"===============================\")\n",
    "#     print(how_deep)\n",
    "\n",
    "    winner = \"\"\n",
    "    \n",
    "    if how_deep[0]-how_deep[1] < 0:\n",
    "        winner = \"A\"\n",
    "    elif how_deep[0]-how_deep[1] > 0:\n",
    "        winner = \"B\"\n",
    "    else:\n",
    "        winner = \"0\"\n",
    "            \n",
    "    print(\"#%d\"%idx, winner)"
   ]
  },
  {
   "cell_type": "code",
   "execution_count": 35,
   "metadata": {
    "tags": []
   },
   "outputs": [
    {
     "output_type": "stream",
     "name": "stdout",
     "text": "#1 A\n"
    }
   ],
   "source": [
    "# 이진탐색 ver2.0\n",
    "\n",
    "T = int(input())\n",
    "\n",
    "for case in range(1, T+1):\n",
    "    p, a, b = map(int,input().split())\n",
    "    a_count = 0\n",
    "    b_count = 0\n",
    "    l, r = 1, p\n",
    "    while 1:\n",
    "        c = (l+r)//2\n",
    "        a_count += 1\n",
    "        if c==a:\n",
    "            break\n",
    "        elif a<c:\n",
    "            r = c\n",
    "        else:\n",
    "            l = c\n",
    "\n",
    "    l, r = 1, p\n",
    "    while 1:\n",
    "        c = (l+r)//2\n",
    "        b_count += 1\n",
    "        if b_count > a_count:\n",
    "            break\n",
    "        if c==b:\n",
    "            break\n",
    "        elif b<c:\n",
    "            r = c\n",
    "        else:\n",
    "            l = c\n",
    "\n",
    "    if a_count < b_count:\n",
    "        print(\"#%d\"%case, \"A\")\n",
    "    elif a_count > b_count:\n",
    "        print(\"#%d\"%case, \"B\")\n",
    "    else:\n",
    "        print(\"#%d\"%case, \"0\")\n"
   ]
  },
  {
   "cell_type": "markdown",
   "metadata": {},
   "source": [
    "### 특별한 정렬"
   ]
  },
  {
   "cell_type": "code",
   "execution_count": 6,
   "metadata": {},
   "outputs": [
    {
     "name": "stdout",
     "output_type": "stream",
     "text": [
      "1\n",
      "10\n",
      "1 2 3 4 5 6 7 8 9 10\n",
      "#10 10 1 9 2 8 3 7 4 6 5\n"
     ]
    }
   ],
   "source": [
    "T = int(input())\n",
    "\n",
    "for case in range(1,T+1):\n",
    "    \n",
    "    N = int(input())\n",
    "    \n",
    "    num_list = list(map(int,input().split()))\n",
    "    \n",
    "    for i in range(N-1):\n",
    "        idx = i\n",
    "        if i%2 == 0:\n",
    "            for j in range(i+1,N):\n",
    "                if num_list[idx] < num_list[j]:\n",
    "                    idx = j\n",
    "            num_list[i], num_list[idx] = num_list[idx], num_list[i]\n",
    "        else:\n",
    "            for j in range(i+1,N):\n",
    "                if num_list[idx] > num_list[j]:\n",
    "                    idx = j\n",
    "            num_list[i], num_list[idx] = num_list[idx], num_list[i]\n",
    "    \n",
    "    print(\"#%d\"%case, \" \".join(map(str,num_list[:10])))"
   ]
  },
  {
   "cell_type": "code",
   "execution_count": null,
   "metadata": {},
   "outputs": [],
   "source": [
    "# 특별한 정렬 ver2.0\n",
    "\n",
    "T = int(input())\n",
    "\n",
    "for case in range(1, T+1):\n",
    "    N = int(input())\n",
    "    arr = list(map(int, input().split()))\n",
    "    ans = []\n",
    "    for i in range(10):\n",
    "        if i%2==0:\n",
    "            ans.append(arr.pop(arr.index(max(arr))))\n",
    "        else:\n",
    "            ans.append(arr.pop(arr.index(min(arr))))\n",
    "    print(\"#%d\"%case, \" \".join(map(str,ans)))"
   ]
  }
 ],
 "metadata": {
  "kernelspec": {
   "display_name": "Python 3",
   "language": "python",
   "name": "python3"
  },
  "language_info": {
   "codemirror_mode": {
    "name": "ipython",
    "version": 3
   },
   "file_extension": ".py",
   "mimetype": "text/x-python",
   "name": "python",
   "nbconvert_exporter": "python",
   "pygments_lexer": "ipython3",
   "version": "3.7.6-final"
  }
 },
 "nbformat": 4,
 "nbformat_minor": 2
}