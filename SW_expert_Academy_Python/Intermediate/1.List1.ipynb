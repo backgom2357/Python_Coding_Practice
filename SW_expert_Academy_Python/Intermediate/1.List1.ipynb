{
 "cells": [
  {
   "cell_type": "markdown",
   "metadata": {},
   "source": [
    "# List 1"
   ]
  },
  {
   "cell_type": "markdown",
   "metadata": {},
   "source": [
    "## 알고리즘\n",
    "\n",
    "### 무엇이 좋은 알고리즘 인가?\n",
    " - 정확성 : 얼마나 정확하게 동작하나\n",
    " - 작업량 : 얼마나 적은 연산으로 원하는 결과를 얻어내는가\n",
    " - 메모리 사용량 : 얼마나 적은 메모리를 사용하는가\n",
    " - 단순성 : 얼마나 단순한가\n",
    " - 최적성 : 더 이상 개선할 여지 없이 최적화되었는가"
   ]
  },
  {
   "cell_type": "markdown",
   "metadata": {},
   "source": [
    "## List"
   ]
  },
  {
   "cell_type": "markdown",
   "metadata": {},
   "source": [
    " - List (배열) : 같은 타입 변수들을 하나의 이름으로 열거하여 사용하는 자료구조\n",
    "\n",
    " - 파이썬의 변수 : 별도의 선언 방법이 없으며 변수에 처음 값을 할당할 때 생성\n",
    "\n",
    " - 값을 초기화 하기 전, 변수를 미리 만들어 두어야 할 경우\n",
    "~~~\n",
    "num = []\n",
    "arr = list()\n",
    "~~~\n",
    "\n",
    " - 시퀀스 자료형 : 순서가 존재함으로, 인덱싱과 슬라이싱의 연산 모두 적용가능\n",
    " \n",
    " - 리스트 함축(List Comprehension) : 수학에서 집합을 정의하는 표현식과 유사함 \n",
    "~~~\n",
    "mylist = [2,3,4,5,6]\n",
    "newlist = [i for i in mylist if i%2 ==0]\n",
    "~~~"
   ]
  },
  {
   "cell_type": "markdown",
   "metadata": {},
   "source": [
    "## Exhaustive Search (완전 검색)"
   ]
  },
  {
   "cell_type": "markdown",
   "metadata": {},
   "source": [
    " - Exhaustive Search(완전검색) : 문제의 해법으로 생각할 수 있는 모든 경우의 수를 나열해보고 확인하는 기법"
   ]
  },
  {
   "cell_type": "markdown",
   "metadata": {},
   "source": [
    "## Greedy Algorithm "
   ]
  },
  {
   "cell_type": "markdown",
   "metadata": {},
   "source": [
    " - 탐욕 알고리즘(Greedy Algorithm) : 최적해를 구하는데 사용되는 근시안적인 방법\n",
    "\n",
    " - 탐욕 알고리즘 수행과정\n",
    "     - 해 선택 : 현재 상태에서 부분 문제의 최적해를 구한 뒤, 이를 부분 해 집합(Solution Set)에 추가함\n",
    "     - 실행 가능성 검사 : 새로운 부분해 집합이 실행 가능한지를 확인. 곧, 문제의 제약조건을 위반하지 않는지를 검사함\n",
    "     - 해 검사 : 새로운 부분 해 집합이 문제의 해가 되는지를 확인. 아직 전체 문제의 해가 완성되지 않았다면 해 선택부터 다시 시작함"
   ]
  },
  {
   "cell_type": "markdown",
   "metadata": {},
   "source": [
    "## Sort"
   ]
  },
  {
   "cell_type": "markdown",
   "metadata": {},
   "source": [
    " - Sort(정렬) : 2개 이상의 자료를 특정 기준에 의해 작은 값부터 큰 값(오름차순, ascending), 혹은 그 반대의 순서대로(내림차순: descending) 재배열하는 것\n",
    " \n",
    " - 버블 정렬(Bubble Sort) : 인접한 두 개의 원소를 비교하며 자리를 계속 교환하는 방식\n",
    " \n",
    "     - 정렬 과정\n",
    "         - 첫 번째 원소부터 인버한 원소끼리 계속 자리를 교환하면서 맨 마지막 자리까지 이동\n",
    "         - 한 단계가 끝나면 가장 큰 원소 또는 가장 작은 원소가 마지막 자리로 정렬됨\n",
    "         - 시간 복잡도 : $O(n^2)$\n",
    "         \n",
    "\n",
    " - 카운팅 정렬(Counting Sort) : 항목들의 순서를 결정하기 위해 집합에 각 항목이 몇 개씩 있는지 세는 작업을 하여, 선형 시간에 정렬하는 효율적인 알고리즘\n",
    " \n",
    "     - 정렬 과정\n",
    "         - 정수나 정수로 표현할 수 있는 자료에 대해서만 적용 가능. 각 항목의 발생 회수를 기록하기 위해, 정수 항목으로 인덱스되는 카운트들의 리스트를 사용하기 때문\n",
    "         - 카운트들을 위한 충분한 공간을 할당하려면 집합 내의 가장 큰 정수를 알아야 함\n",
    "         - 시간 복잡도 : $O(n+k)$ (n은 리스트의 개수, k는 정수의 최대값)\n",
    "         \n"
   ]
  },
  {
   "cell_type": "markdown",
   "metadata": {},
   "source": [
    "### min max\n",
    "N개의 양의 정수에서 가장 큰 수와 가장 작은 수의 차이를 출력하시오.\n",
    "\n",
    "\n",
    "[입력]\n",
    "\n",
    "첫 줄에 테스트 케이스의 수 T가 주어진다. ( 1 ≤ T ≤ 50 )\n",
    "\n",
    "각 케이스의 첫 줄에 양수의 개수 N이 주어진다. ( 5 ≤ N ≤ 1000 )\n",
    "\n",
    "다음 줄에 N개의 양수 ai가 주어진다. ( 1 ≤ ai≤ 1000000 )\n",
    "\n",
    "[출력]\n",
    "\n",
    "각 줄마다 \"#T\" (T는 테스트 케이스 번호)를 출력한 뒤, 답을 출력한다."
   ]
  },
  {
   "cell_type": "code",
   "execution_count": null,
   "metadata": {},
   "outputs": [],
   "source": [
    "t = int(input())\n",
    "\n",
    "for i in range(t):\n",
    "    n = int(input())\n",
    "    num_list = sorted(list(map(int,input().split())))\n",
    "    print(\"#%d\"%(i+1),num_list[-1] - num_list[0])"
   ]
  },
  {
   "cell_type": "code",
   "execution_count": 5,
   "metadata": {},
   "outputs": [
    {
     "data": {
      "text/plain": [
       "[5, 4, 3, 2, 1]"
      ]
     },
     "execution_count": 5,
     "metadata": {},
     "output_type": "execute_result"
    }
   ],
   "source": [
    "[i for i in range(5,0,-1)]"
   ]
  },
  {
   "cell_type": "code",
   "execution_count": 11,
   "metadata": {},
   "outputs": [
    {
     "name": "stdout",
     "output_type": "stream",
     "text": [
      "1\n",
      "10\n",
      "784386 279993 982220 996285 614710 992232 195265 359810 919192 158175\n",
      "[158175, 279993, 784386, 982220, 614710, 992232, 195265, 359810, 919192, 996285]\n",
      "#1 838110\n"
     ]
    }
   ],
   "source": [
    "# min max ver 2.0\n",
    "T = int(input())\n",
    "\n",
    "# applied bubble sort\n",
    "for case in range(1,T+1):\n",
    "    N = int(input())\n",
    "    arr = list((map(int,input().split())))\n",
    "    for n in range(N-1):\n",
    "        if arr[n] > arr[n+1]:\n",
    "            arr[n], arr[n+1] = arr[n+1], arr[n]\n",
    "    for n in range(N-1,0,-1):\n",
    "        if arr[n] < arr[n-1]:\n",
    "            arr[n], arr[n-1] = arr[n-1], arr[n]\n",
    "    print(\"#%d\"%(case),arr[-1] - arr[0])"
   ]
  },
  {
   "cell_type": "markdown",
   "metadata": {},
   "source": [
    "### 전기버스\n",
    "\n",
    "A도시는 전기버스를 운행하려고 한다. 전기버스는 한번 충전으로 이동할 수 있는 정류장 수가 정해져 있어서, 중간에 충전기가 설치된 정류장을 만들기로 했다.\n",
    "\n",
    "버스는 0번에서 출발해 종점인 N번 정류장까지 이동하고, 한번 충전으로 최대한 이동할 수 있는 정류장 수 K가 정해져 있다.\n",
    "\n",
    "충전기가 설치된 M개의 정류장 번호가 주어질 때, 최소한 몇 번의 충전을 해야 종점에 도착할 수 있는지 출력하는 프로그램을 만드시오.\n",
    "\n",
    "만약 충전기 설치가 잘못되어 종점에 도착할 수 없는 경우는 0을 출력한다. 출발지에는 항상 충전기가 설치되어 있지만 충전횟수에는 포함하지 않는다.\n",
    " \n",
    "\n",
    "\n",
    "[예시]\n",
    "\n",
    "\n",
    "다음은 K = 3, N = 10, M = 5, 충전기가 설치된 정류장이 1, 3, 5, 7, 9인 경우의 예이다.\n",
    "\n",
    " \n",
    "\n",
    "[입력]\n",
    " \n",
    "\n",
    "첫 줄에 노선 수 T가 주어진다.  ( 1 ≤ T ≤ 50 )\n",
    "\n",
    "\n",
    "각 노선별로 K, N, M이 주어지고, 다음줄에 M개의 정류장 번호가 주어진다. ( 1 ≤ K, N, M ≤ 100 )\n",
    " \n",
    "\n",
    "[출력]\n",
    "\n",
    "\n",
    "#과 노선번호, 빈칸에 이어 최소 충전횟수 또는 0을 출력한다.\n",
    "    "
   ]
  },
  {
   "cell_type": "code",
   "execution_count": 6,
   "metadata": {
    "collapsed": true
   },
   "outputs": [
    {
     "name": "stdout",
     "output_type": "stream",
     "text": [
      "1\n",
      "5 20 5\n",
      "4 7 9 14 17\n",
      "STATION : [0, 0, 0, 1, 0, 0, 1, 0, 1, 0, 0, 0, 0, 1, 0, 0, 1, 0, 0, 0]\n",
      "station :  1 charge:  0 battery :  1\n",
      "station :  2 charge:  0 battery :  2\n",
      "station :  3 charge:  0 battery :  3\n",
      "station :  4 charge:  0 battery :  4\n",
      "[0]\n",
      "False\n",
      "Charge!\n",
      "station :  5 charge:  1 battery :  1\n",
      "station :  6 charge:  1 battery :  2\n",
      "station :  7 charge:  1 battery :  3\n",
      "[0, 1]\n",
      "False\n",
      "Pass Station!\n",
      "station :  8 charge:  1 battery :  4\n",
      "station :  9 charge:  1 battery :  5\n",
      "[]\n",
      "False\n",
      "Charge!\n",
      "station :  10 charge:  2 battery :  1\n",
      "station :  11 charge:  2 battery :  2\n",
      "station :  12 charge:  2 battery :  3\n",
      "station :  13 charge:  2 battery :  4\n",
      "station :  14 charge:  2 battery :  5\n",
      "[]\n",
      "False\n",
      "Charge!\n",
      "station :  15 charge:  3 battery :  1\n",
      "station :  16 charge:  3 battery :  2\n",
      "station :  17 charge:  3 battery :  3\n",
      "[0, 0]\n",
      "False\n",
      "Charge!\n",
      "station :  18 charge:  4 battery :  1\n",
      "station :  19 charge:  4 battery :  2\n",
      "station :  20 charge:  4 battery :  3\n",
      "#1 4\n"
     ]
    }
   ],
   "source": [
    "T = int(input())\n",
    "\n",
    "for i in range(1,T+1):\n",
    "    \n",
    "    K,N,M = map(int, input().split())\n",
    "    M_list = list(map(int,input().split()))\n",
    "    \n",
    "    station = [0]*N\n",
    "    \n",
    "    for charger in M_list:\n",
    "        station[charger-1] = 1\n",
    "    \n",
    "    charge = 0\n",
    "    \n",
    "    battery = 0\n",
    "    \n",
    "#     print(\"STATION :\",station)\n",
    "    \n",
    "    for j in range(N):\n",
    "        \n",
    "        if battery == K:\n",
    "            charge = 0\n",
    "            break\n",
    "                \n",
    "        battery += 1\n",
    "        \n",
    "#         print(\"station : \",j+1, \"charge: \" , charge, \"battery : \", battery)\n",
    "        \n",
    "        if station[j] == 1:\n",
    "            \n",
    "#             print(station[j+1:j+(K-battery)+1])\n",
    "            \n",
    "#             print(((K-battery)>=(N-j-1)))\n",
    "            \n",
    "            if (battery != K and (1 in station[j+1:j+(K-battery)+1])) or ((K-battery)>=(N-j-1)):\n",
    "#                 print(\"Pass Station!\")\n",
    "                continue\n",
    "            \n",
    "#             print(\"Charge!\")\n",
    "            charge += 1\n",
    "            battery = 0\n",
    "            \n",
    "        \n",
    "            \n",
    "    print(\"#%d\"%(i), charge)"
   ]
  },
  {
   "cell_type": "code",
   "execution_count": 31,
   "metadata": {},
   "outputs": [
    {
     "name": "stdout",
     "output_type": "stream",
     "text": [
      "1\n",
      "5 20 5\n",
      "4 7 9 14 17\n",
      "charge! 3 1\n",
      "charge! 8 2\n",
      "charge! 13 3\n",
      "charge! 16 4\n",
      "#1 4\n"
     ]
    }
   ],
   "source": [
    "# elec. bus ver2.0\n",
    "T = int(input())\n",
    "\n",
    "for case in range(1, T+1):\n",
    "    K, N, M = map(int,input().split())\n",
    "    chargers = list(map(int ,input().split()))\n",
    "    max_cap = K\n",
    "    crt_position = 0\n",
    "    charge_count = 0\n",
    "    while K:\n",
    "        crt_position += 1\n",
    "        if crt_position == N:\n",
    "            break\n",
    "        K -= 1\n",
    "        # print(crt_position, K)\n",
    "        if K == 0:\n",
    "            for back in range(max_cap):\n",
    "                if crt_position in chargers:\n",
    "                    K = max_cap\n",
    "                    charge_count += 1\n",
    "                    # print('charge!', crt_position, charge_count)\n",
    "                    break\n",
    "                crt_position -= 1\n",
    "    if crt_position == N:\n",
    "        print(\"#%d\"%(case), charge_count)\n",
    "    else: print(\"#%d\"%(case), 0)"
   ]
  },
  {
   "cell_type": "markdown",
   "metadata": {},
   "source": [
    "### 숫자 카드\n",
    "\n",
    "0에서 9까지 숫자가 적힌 N장의 카드가 주어진다.\n",
    "\n",
    "가장 많은 카드에 적힌 숫자와 카드가 몇 장인지 출력하는 프로그램을 만드시오. 카드 장수가 같을 때는 적힌 숫자가 큰 쪽을 출력한다.\n",
    "\n",
    "\n",
    " \n",
    "\n",
    "[입력]\n",
    " \n",
    "\n",
    "첫 줄에 테스트 케이스 개수 T가 주어진다.  ( 1 ≤ T ≤ 50 )\n",
    "\n",
    "다음 줄부터 테스트케이스의 첫 줄에 카드 장수 N이 주어진다. ( 5 ≤ N ≤ 100 )\n",
    "\n",
    "다음 줄에 N개의 숫자 ai가 여백없이 주어진다. (0으로 시작할 수도 있다.)  ( 0 ≤ ai ≤ 9 ) \n",
    "\n",
    " \n",
    "\n",
    "[출력]\n",
    " \n",
    "\n",
    "각 줄마다 \"#T\" (T는 테스트 케이스 번호)를 출력한 뒤, 가장 많은 카드의 숫자와 장 수를 차례로 출력한다."
   ]
  },
  {
   "cell_type": "code",
   "execution_count": 11,
   "metadata": {},
   "outputs": [
    {
     "name": "stdout",
     "output_type": "stream",
     "text": [
      "1\n",
      "10\n",
      "7797946543\n",
      "#1 7 3\n"
     ]
    }
   ],
   "source": [
    "T = int(input())\n",
    "\n",
    "for idx in range(1,T+1):\n",
    "    \n",
    "    N = int(input())\n",
    "    \n",
    "    cards = [0]*10\n",
    "    \n",
    "    num_cards = input()\n",
    "    \n",
    "    for c in num_cards:\n",
    "        cards[9-int(c)] += 1\n",
    "        \n",
    "    how_many_max_num = max(cards)\n",
    "    \n",
    "    max_num = 9 - cards.index(how_many_max_num)\n",
    "    \n",
    "    print(\"#%d\"%idx, max_num, how_many_max_num)"
   ]
  },
  {
   "cell_type": "code",
   "execution_count": 35,
   "metadata": {},
   "outputs": [
    {
     "name": "stdout",
     "output_type": "stream",
     "text": [
      "1\n",
      "5\n",
      "49679\n",
      "#1 9 2\n"
     ]
    }
   ],
   "source": [
    "# num card ver2.0\n",
    "T = int(input())\n",
    "\n",
    "for case in range(1, T+1):\n",
    "    N = int(input())\n",
    "    num_list = list(map(lambda x: int(x), input()))\n",
    "    card_count = [0 for _ in range(10)]\n",
    "    for n in num_list:\n",
    "        card_count[n] += 1\n",
    "    max_count = max(card_count)\n",
    "    max_count_num_list = [x for x in range(10) if card_count[x] == max_count]\n",
    "    print(\"#%d\"%case, max(max_count_num_list), max_count)"
   ]
  },
  {
   "cell_type": "markdown",
   "metadata": {},
   "source": [
    "### 구간합\n",
    "\n",
    "N개의 정수가 들어있는 배열에서 이웃한 M개의 합을 계산하는 것은 디지털 필터링의 기초연산이다.\n",
    "\n",
    "M개의 합이 가장 큰 경우와 가장 작은 경우의 차이를 출력하는 프로그램을 작성하시오.\n",
    " \n",
    "\n",
    "다음은 N=5, M=3이고 5개의 숫자 1 2 3 4 5가 배열 v에 들어있는 경우이다.\n",
    "\n",
    "이웃한 M개의 합이 가장 작은 경우 1 + 2 + 3 = 6\n",
    "\n",
    "\n",
    "이웃한 M개의 합이 가장 큰 경우 3 + 4 + 5 = 12\n",
    " \n",
    "\n",
    "답은 12와 6의 차인 6을 출력한다.\n",
    "\n",
    "\n",
    " \n",
    "\n",
    "[입력]\n",
    " \n",
    "\n",
    "첫 줄에 테스트 케이스 개수 T가 주어진다.  ( 1 ≤ T ≤ 50 )\n",
    "\n",
    "\n",
    "다음 줄부터 테스트케이스의 첫 줄에 정수의 개수 N과 구간의 개수 M 주어진다. ( 10 ≤ N ≤ 100,  2 ≤ M ＜ N )\n",
    "\n",
    "\n",
    "다음 줄에 N개의 정수 ai가 주어진다. ( 1 ≤ a ≤ 10000 )\n",
    "\n",
    " \n",
    "\n",
    "[출력]\n",
    " \n",
    "\n",
    "각 줄마다 \"#T\" (T는 테스트 케이스 번호)를 출력한 뒤, 답을 출력한다."
   ]
  },
  {
   "cell_type": "code",
   "execution_count": 16,
   "metadata": {
    "collapsed": true
   },
   "outputs": [
    {
     "name": "stdout",
     "output_type": "stream",
     "text": [
      "1\n",
      "20 19\n",
      "a\n"
     ]
    },
    {
     "ename": "ValueError",
     "evalue": "invalid literal for int() with base 10: 'a'",
     "output_type": "error",
     "traceback": [
      "\u001b[1;31m---------------------------------------------------------------------------\u001b[0m",
      "\u001b[1;31mValueError\u001b[0m                                Traceback (most recent call last)",
      "\u001b[1;32m<ipython-input-16-47e60f2c5ab9>\u001b[0m in \u001b[0;36m<module>\u001b[1;34m\u001b[0m\n\u001b[0;32m      5\u001b[0m     \u001b[0mN\u001b[0m\u001b[1;33m,\u001b[0m \u001b[0mM\u001b[0m \u001b[1;33m=\u001b[0m \u001b[0mmap\u001b[0m\u001b[1;33m(\u001b[0m\u001b[0mint\u001b[0m\u001b[1;33m,\u001b[0m \u001b[0minput\u001b[0m\u001b[1;33m(\u001b[0m\u001b[1;33m)\u001b[0m\u001b[1;33m.\u001b[0m\u001b[0msplit\u001b[0m\u001b[1;33m(\u001b[0m\u001b[1;33m)\u001b[0m\u001b[1;33m)\u001b[0m\u001b[1;33m\u001b[0m\u001b[0m\n\u001b[0;32m      6\u001b[0m \u001b[1;33m\u001b[0m\u001b[0m\n\u001b[1;32m----> 7\u001b[1;33m     \u001b[0mnum_list\u001b[0m \u001b[1;33m=\u001b[0m \u001b[0mlist\u001b[0m\u001b[1;33m(\u001b[0m\u001b[0mmap\u001b[0m\u001b[1;33m(\u001b[0m\u001b[0mint\u001b[0m\u001b[1;33m,\u001b[0m\u001b[0minput\u001b[0m\u001b[1;33m(\u001b[0m\u001b[1;33m)\u001b[0m\u001b[1;33m.\u001b[0m\u001b[0msplit\u001b[0m\u001b[1;33m(\u001b[0m\u001b[1;33m)\u001b[0m\u001b[1;33m)\u001b[0m\u001b[1;33m)\u001b[0m\u001b[1;33m\u001b[0m\u001b[0m\n\u001b[0m\u001b[0;32m      8\u001b[0m \u001b[1;33m\u001b[0m\u001b[0m\n\u001b[0;32m      9\u001b[0m     \u001b[0mcandi\u001b[0m \u001b[1;33m=\u001b[0m \u001b[1;33m[\u001b[0m\u001b[1;33m]\u001b[0m\u001b[1;33m\u001b[0m\u001b[0m\n",
      "\u001b[1;31mValueError\u001b[0m: invalid literal for int() with base 10: 'a'"
     ]
    }
   ],
   "source": [
    "T = int(input())\n",
    "\n",
    "for case in range(1,T+1):\n",
    "    N, M = map(int, input().split())\n",
    "    num_list = list(map(int,input().split()))\n",
    "    candi = []\n",
    "    for i in range(N-M+1):\n",
    "        candi.append(sum(num_list[i:i+M]))\n",
    "    result = max(candi) - min(candi)\n",
    "    print(\"#%d\"%case, result)   "
   ]
  }
 ],
 "metadata": {
  "kernelspec": {
   "display_name": "Python 3",
   "language": "python",
   "name": "python3"
  },
  "language_info": {
   "codemirror_mode": {
    "name": "ipython",
    "version": 3
   },
   "file_extension": ".py",
   "mimetype": "text/x-python",
   "name": "python",
   "nbconvert_exporter": "python",
   "pygments_lexer": "ipython3",
   "version": "3.7.6"
  }
 },
 "nbformat": 4,
 "nbformat_minor": 2
}
