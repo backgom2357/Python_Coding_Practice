{
 "cells": [
  {
   "cell_type": "markdown",
   "metadata": {},
   "source": [
    "# String"
   ]
  },
  {
   "cell_type": "markdown",
   "metadata": {},
   "source": [
    "## String\n",
    "\n",
    " - 문자 표현\n",
    "     - 컴퓨터에서의 문자 표현\n",
    "     - ASCII(American Standard Code for Information Interchange)\n",
    "     - Unicode : 다국어 처리를 위한 표준\n",
    "         - UCS-2 (Universal Character Set 2)\n",
    "         - UCS-4 (Universal Character Set 4)\n",
    "           유니코드를 저장하는 변수의 크기를 정의\n",
    "         - UTF(Unicode Transformation Format, 유니코드 인코딩)\n",
    "             - UTF-8(in web)\n",
    "             - UTF-16(in windows, Java)\n",
    "             - UTF-32(in unix)\n",
    "             \n",
    "     - 파이썬 2.x : ASCII ->\n",
    "     ~~~\n",
    "     #-*-coding:utf-8-*-\n",
    "     ~~~\n",
    "     - 파이썬 3.x : UTF-8\n",
    "     \n",
    "\n",
    " - 문자열의 분류\n",
    "     - 문자열\n",
    "         - Fixed length\n",
    "         - Variable length\n",
    "             - Length controlled(Java)\n",
    "             - Delimited(C)\n",
    "             \n",
    "     - C : ASCII\n",
    "     - Java : UTF-16,2byte\n",
    "     - Python : UTF-8"
   ]
  },
  {
   "cell_type": "markdown",
   "metadata": {},
   "source": [
    "## 패턴 매칭\n",
    "\n",
    "- 문자열 교체하기\n",
    "    - 문자열 교체할 때 패턴 매칭 알고리즘이 사용됨\n",
    "- 패턴 매칭 알고리즘\n",
    "    - 패턴 매칭 : 본문에서 특정한 문자열을 찾는 것\n",
    "    - 고지식한 패턴 검색 알고리즘(Brute Force)\n",
    "        - 본문 문자열을 처음부터 끝까지 차례대로 순회화면서 패턴 내의 문자들을 일일이 비교하는 방식으로 동작\n",
    "        - 시간복잡도 : O(MN) (M:문자열 길이, N:찾을 패턴 길이)\n",
    "    - KMP 알고리즘\n",
    "        - 불일치가 발생한 텍스트 문자열의 앞 부분에 어떤 문자가 있는지 미리 알고 있으므로, 불일치가 발생한 앞 부분에 대하여 다시 비교하지 않고 매칭을 수행\n",
    "        - 패턴을 전처리하여 배열 next[M]을 구해서 잘못된 시작을 최소하함\n",
    "            - next[M] : 불일치가 발생했을 경우 이동할 다음 위치\n",
    "        - 시간복잡도 : O(M+N)\n",
    "        \n",
    "    - 보이어-무어 알고리즘\n",
    "        - 오른쪽에서 왼쪽으로 비교, 대부분의 상용 소프트웨어에서 채택하고 있는 알고리즘\n",
    "        - 패턴에 오른쪽 끝에 있는 문자가 불일치하고, 이 문자가 패턴 내에 존재하지 않는 경우, 이동거리는 패턴의 길이 만큼이 됨\n",
    "        \n",
    "    - 문자열 매칭 알고리즘 비교\n",
    "        - 찾고자 하는 문자열 패턴의 길이 m, 총 문자열 길이 n\n",
    "        - 고지식한 검색패턴 검색 알고리즘 : O(mn)\n",
    "        - 카프-라빈 알고리즘 : O(n)\n",
    "        - KMP 알고리즘 : O(n)\n",
    "        - 보이어-무어 알고리즘 : 일반적으로 O(n)보다 적음. 최악일 경우 O(mn)"
   ]
  },
  {
   "cell_type": "code",
   "execution_count": 53,
   "metadata": {},
   "outputs": [
    {
     "data": {
      "text/plain": [
       "2"
      ]
     },
     "execution_count": 53,
     "metadata": {},
     "output_type": "execute_result"
    }
   ],
   "source": [
    "#Brute Force\n",
    "\n",
    "p = \"is\" #찾을 패턴\n",
    "t = \"This is a book~!\" # 전체 텍스트\n",
    "M = len(p)\n",
    "N = len(t)\n",
    "\n",
    "def BruteForce(p,t):\n",
    "    i = 0 # t의 인덱스\n",
    "    j = 0 # p의 인덱스\n",
    "    while j<M and i<N:\n",
    "        if t[i] != p[j]:\n",
    "            i = i - j\n",
    "            j = -1\n",
    "        i = i + 1\n",
    "        j = j + 1\n",
    "    if j == M : return i - M # 검색 성공\n",
    "    else: return -1 # 검색 실패\n",
    "    \n",
    "BruteForce(p,t)"
   ]
  },
  {
   "cell_type": "markdown",
   "metadata": {},
   "source": [
    "### 문자열 비교"
   ]
  },
  {
   "cell_type": "code",
   "execution_count": 18,
   "metadata": {},
   "outputs": [
    {
     "name": "stdout",
     "output_type": "stream",
     "text": [
      "1\n",
      "XYVP\n",
      "OIEFPQNEIFNE\n",
      "#1 0\n"
     ]
    }
   ],
   "source": [
    "T = int(input())\n",
    "\n",
    "for case in range(1, T + 1):\n",
    "\n",
    "    result = 0\n",
    "\n",
    "    string1 = input()\n",
    "    string2 = input()\n",
    "\n",
    "    n = len(string1)\n",
    "    m = len(string2)\n",
    "\n",
    "    idx = n - 1\n",
    "\n",
    "    skip = 0\n",
    "\n",
    "    while idx < m:\n",
    "\n",
    "        if result == 1:\n",
    "            break\n",
    "            \n",
    "#         print(string2[idx], string1[n-1])\n",
    "\n",
    "        if string2[idx] != string1[n-1]:\n",
    "\n",
    "            #             print(\"WRONG\")\n",
    "\n",
    "            for i in range(1, n):\n",
    "                skip = i\n",
    "                if string2[idx] == string1[n-1 - i]:\n",
    "                    break\n",
    "            idx += skip\n",
    "        else:\n",
    "\n",
    "            #             print(\"RIGHT\")\n",
    "\n",
    "            for j in range(0, n):\n",
    "                if string2[idx - j] != string1[n-1 - j]:\n",
    "                    result = 0\n",
    "                    idx += j\n",
    "                    break\n",
    "                result = 1\n",
    "\n",
    "\n",
    "    print(\"#%d\" % case, result)"
   ]
  },
  {
   "cell_type": "code",
   "execution_count": 12,
   "metadata": {},
   "outputs": [
    {
     "name": "stdout",
     "output_type": "stream",
     "text": [
      "#1 0\n"
     ]
    }
   ],
   "source": [
    "# 문자열 비교 ver2\n",
    "import sys\n",
    "sys.stdin = open(\"input.txt\", \"r\")\n",
    "\n",
    "# T = int(input())\n",
    "T = int(sys.stdin.readline())\n",
    "\n",
    "\n",
    "for case in range(1, T+1):\n",
    "#     str1 = input()\n",
    "#     str2 = input()\n",
    "    str1 = sys.stdin.readline()\n",
    "    str2 = sys.stdin.readline()\n",
    "\n",
    "    answer = 0\n",
    "    \n",
    "    candi_idx = []\n",
    "    for i, c in enumerate(str2):\n",
    "        if c == str1[0]:\n",
    "            candi_idx.append(i)\n",
    "    for idx in candi_idx:\n",
    "        if str1 == str2[idx:idx+len(str1)]:\n",
    "            answer = 1\n",
    "            break\n",
    "\n",
    "    print(\"#%d\" % case, answer)"
   ]
  },
  {
   "cell_type": "markdown",
   "metadata": {},
   "source": [
    "### 회문"
   ]
  },
  {
   "cell_type": "code",
   "execution_count": 56,
   "metadata": {},
   "outputs": [
    {
     "name": "stdout",
     "output_type": "stream",
     "text": [
      "a\n"
     ]
    },
    {
     "ename": "ValueError",
     "evalue": "invalid literal for int() with base 10: 'a'",
     "output_type": "error",
     "traceback": [
      "\u001b[1;31m---------------------------------------------------------------------------\u001b[0m",
      "\u001b[1;31mValueError\u001b[0m                                Traceback (most recent call last)",
      "\u001b[1;32m<ipython-input-56-08843f92c189>\u001b[0m in \u001b[0;36m<module>\u001b[1;34m\u001b[0m\n\u001b[0;32m      7\u001b[0m     \u001b[1;32mreturn\u001b[0m \u001b[0mm\u001b[0m\u001b[1;33m[\u001b[0m\u001b[0my\u001b[0m\u001b[1;33m]\u001b[0m\u001b[1;33m[\u001b[0m\u001b[0mx\u001b[0m\u001b[1;33m:\u001b[0m\u001b[0mx\u001b[0m\u001b[1;33m+\u001b[0m\u001b[0ml\u001b[0m\u001b[1;33m-\u001b[0m\u001b[1;36m1\u001b[0m\u001b[1;33m]\u001b[0m\u001b[1;33m\u001b[0m\u001b[0m\n\u001b[0;32m      8\u001b[0m \u001b[1;33m\u001b[0m\u001b[0m\n\u001b[1;32m----> 9\u001b[1;33m \u001b[0mT\u001b[0m \u001b[1;33m=\u001b[0m \u001b[0mint\u001b[0m\u001b[1;33m(\u001b[0m\u001b[0minput\u001b[0m\u001b[1;33m(\u001b[0m\u001b[1;33m)\u001b[0m\u001b[1;33m)\u001b[0m\u001b[1;33m\u001b[0m\u001b[0m\n\u001b[0m\u001b[0;32m     10\u001b[0m \u001b[1;33m\u001b[0m\u001b[0m\n\u001b[0;32m     11\u001b[0m \u001b[1;32mfor\u001b[0m \u001b[0mcase\u001b[0m \u001b[1;32min\u001b[0m \u001b[0mrange\u001b[0m\u001b[1;33m(\u001b[0m\u001b[1;36m1\u001b[0m\u001b[1;33m,\u001b[0m\u001b[0mT\u001b[0m\u001b[1;33m+\u001b[0m\u001b[1;36m1\u001b[0m\u001b[1;33m)\u001b[0m\u001b[1;33m:\u001b[0m\u001b[1;33m\u001b[0m\u001b[0m\n",
      "\u001b[1;31mValueError\u001b[0m: invalid literal for int() with base 10: 'a'"
     ]
    }
   ],
   "source": [
    "from itertools import product\n",
    "\n",
    "\n",
    "def check_mirror(m, x, y, l):\n",
    "    for i in range(l):\n",
    "        if m[y][x + i] != m[y][x + l - 1 - i]:\n",
    "            return 0\n",
    "    return m[y][x:x + l]\n",
    "\n",
    "\n",
    "T = int(input())\n",
    "\n",
    "for case in range(1, T + 1):\n",
    "\n",
    "    N, M = map(int, input().split())\n",
    "    matrix = [input() for _ in range(N)]\n",
    "    matrix_t = list(map(''.join, zip(*matrix)))\n",
    "\n",
    "    for i,j in product(range(N - M + 1), range(N)): \n",
    "\n",
    "        if check_mirror(matrix, i, j, M):\n",
    "            print(\"#%d\" % case, check_mirror(matrix, i, j, M))\n",
    "            break\n",
    "        if check_mirror(matrix_t, i, j, M):\n",
    "            print(\"#%d\" % case, check_mirror(matrix_t, i, j, M))\n",
    "            break"
   ]
  },
  {
   "cell_type": "code",
   "execution_count": 35,
   "metadata": {},
   "outputs": [
    {
     "name": "stdout",
     "output_type": "stream",
     "text": [
      "1\n",
      "10 10\n",
      "GOFFAKWFSM\n",
      "OYECRSLDLQ\n",
      "UJAJQVSYYC\n",
      "JAEZNNZEAJ\n",
      "WJAKCGSGCF\n",
      "QKUDGATDQL\n",
      "OKGPFPYRKQ\n",
      "TDCXBMQTIO\n",
      "UNADRPNETZ\n",
      "ZATWDEKDQF\n",
      "#1 JAEZNNZEAJ\n"
     ]
    }
   ],
   "source": [
    "# 회문 ver2.0\n",
    "\n",
    "T = int(input())\n",
    "\n",
    "for case in range(1, T+1):\n",
    "    N, M = map(int, input().split())\n",
    "    str_box = []\n",
    "    for _ in range(N):\n",
    "        str_box.append(list(input()))\n",
    "    answer = \"\"\n",
    "    for string, string_t in zip(str_box, list(zip(*str_box))):\n",
    "        for j in range(N-M+1):\n",
    "            if string[j:j+M] == string[j:j+M][::-1]:\n",
    "                answer = \"\".join(string[j:j+M])\n",
    "                break\n",
    "            if string_t[j:j+M] == string_t[j:j+M][::-1]:\n",
    "                answer = \"\".join(string_t[j:j+M])\n",
    "                break\n",
    "        if answer:\n",
    "            break\n",
    "    print(\"#%d\"%case, answer)"
   ]
  },
  {
   "cell_type": "markdown",
   "metadata": {},
   "source": [
    "### 글자수"
   ]
  },
  {
   "cell_type": "code",
   "execution_count": 78,
   "metadata": {},
   "outputs": [
    {
     "name": "stdout",
     "output_type": "stream",
     "text": [
      "1\n",
      "XYPV\n",
      "EOGGXYPVSY\n",
      "#1 2\n"
     ]
    }
   ],
   "source": [
    "T = int(input())\n",
    "\n",
    "for case in range(1,T+1):\n",
    "    \n",
    "    str1 = list(set(input()))\n",
    "    str2 = input()\n",
    "    \n",
    "    count = []\n",
    "    \n",
    "    for char in str1:\n",
    "        count.append(str2.count(char))\n",
    "        \n",
    "    print(\"#%d\"%case, max(count))"
   ]
  }
 ],
 "metadata": {
  "kernelspec": {
   "display_name": "Python 3",
   "language": "python",
   "name": "python3"
  },
  "language_info": {
   "codemirror_mode": {
    "name": "ipython",
    "version": 3
   },
   "file_extension": ".py",
   "mimetype": "text/x-python",
   "name": "python",
   "nbconvert_exporter": "python",
   "pygments_lexer": "ipython3",
   "version": "3.7.6"
  }
 },
 "nbformat": 4,
 "nbformat_minor": 2
}
