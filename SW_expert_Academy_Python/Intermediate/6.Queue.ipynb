{
 "cells": [
  {
   "cell_type": "markdown",
   "metadata": {},
   "source": [
    "# Queue"
   ]
  },
  {
   "cell_type": "markdown",
   "metadata": {},
   "source": [
    "## Queue의 특성\n",
    "\n",
    "- 선입선출구조\n",
    "- 기본 연산\n",
    "    - enQueue(item) : 큐의 뒤쪽(rear 다음)에 원소를 삽입하는 연산\n",
    "    - deQueue() : 큐의 앞쪽(front)에서  원소를 삭제하고 반환하는 연산\n",
    "    - createQueue() : 공백 상태의 큐를 생성하는 연산\n",
    "    - isEmpty() : 큐가 공백상태인지를 확인하는 연산\n",
    "    - isFull() : 큐가 포화상태인지를 확인하는 연산\n",
    "    - Qpeek() : 큐의 앞쪽(front)에서 원소를 삭제 없이 반환하는 연산\n",
    "    \n",
    "- Queue의 연산 과정\n",
    "- Queue의 종류\n",
    "    - 선형큐 : 리스트 사용\n",
    "    - 원형큐 : 리스트 사용\n",
    "    - 연결큐 : 연결 리스트 사용\n",
    "    - 우선순위 큐"
   ]
  },
  {
   "cell_type": "markdown",
   "metadata": {},
   "source": [
    "## Queue의 종류\n",
    "\n",
    "- 선형 Queue\n",
    "    - 1차원 리스트를 이용한 큐\n",
    "        - 큐의 크기 = 리스트의 크기\n",
    "        - front : 저장된 첫 번째 원소의 인덱스\n",
    "        - rear : 저장된 마지막 원소의 인덱스\n",
    "    - 상태 표현\n",
    "        - 초기 상태 : front = rear = -1\n",
    "        - 공백 상태 : front = rear\n",
    "        - 포화 상태 : rear = n-1(n: 리스트의 크기, n-1 : 리스트의 마지막 인덱스)\n",
    "    - 선형 큐의 문제점\n",
    "        - 메모리 낭비\n",
    "    - 문제 해결 방법\n",
    "        - 원형큐\n",
    "        - 파이선의 리스트 특성을 사용해 메모리 절약(연산 수행에 시간 늘어남)\n",
    "        - 단순 연결리스트로 메모리 동적 확보\n",
    "        - 큐 라이브 사용\n",
    "- 원형 Queue\n",
    "    - 특징\n",
    "        - 초기 공백 상태 : front = rear = 0\n",
    "        - front를 빈자리로 둠\n",
    "        - 삽입 위치 : rear = (rear + 1) % n\n",
    "        - 삭제 위치 : front = (front + 1) % n\n",
    "\n",
    "- Queue 라이브러리\n",
    "    - queue.Queue(maxsize) : FIFO 큐 객체를 생성\n",
    "    - queue.LifoQueue(maxsize) : LIFO 후입선출 큐 객체 생성\n",
    "    - queue.PriorityQueue(maxsize) : 우선순위 큐 객체를 생성, 이벽되는 아이템의 형식은 (순위, 아이템)의 튜플로 입력되며, 우선순위는 숫자가 작을수록 높은 순위를 가짐\n",
    "    (maxsize는 최대 아이템수, 지정하지 않거나 음수면 내용만큼 늘어남)\n",
    "    - qsize() : 큐에 입력된 아이템 개수\n",
    "    - put(item[,block[,timeout]]) : 아이템 입력\n",
    "    - get([block[,timeout]]) : 아이템 1개 반환\n",
    "    - empty() \n",
    "    - full()\n",
    "    (클래스의 정렬방식에 따라 get계열의 메서드가 달라짐)"
   ]
  },
  {
   "cell_type": "code",
   "execution_count": 1,
   "metadata": {},
   "outputs": [
    {
     "name": "stdout",
     "output_type": "stream",
     "text": [
      "A\n",
      "B\n",
      "C\n"
     ]
    }
   ],
   "source": [
    "import queue\n",
    "q = queue.Queue()\n",
    "q.put(\"A\")\n",
    "q.put('B')\n",
    "q.put('C')\n",
    "\n",
    "while not q.empty():\n",
    "    print(q.get())"
   ]
  },
  {
   "cell_type": "markdown",
   "metadata": {},
   "source": [
    "## Queue의 활용\n",
    "\n",
    "- 우선순위 큐\n",
    "    - 우선순위를 가진 항목들을 저장하는 큐\n",
    "    - FIFO 순서가 아니라 우선순위가 높은 순서대로 먼저 나가게됨\n",
    "    - 우선순위가 같으면 FIFO로 나감\n",
    "    - 시뮬레이션 시스템, 네트워크 트래픽 제어, 운영체제의 태스크 스케줄링\n",
    "- 버퍼\n",
    "    - 데이터를 한 곳에서 다른 곳으로 전송하는 동안 일시적으로 그 데이터를 보관하는 메모리의 영역\n",
    "        - 버퍼링 : 버퍼를 활용하는 방식 또는 버퍼를 채우는 동작을 의미\n",
    "    - 버퍼의 자료구조\n",
    "        - 일반적으로 입출력 및 네트워크와 관련된 기능에서 이용\n",
    "        - FIFO로 이루어져야되므로 큐가 활용됨\n",
    "        "
   ]
  },
  {
   "cell_type": "markdown",
   "metadata": {},
   "source": [
    "## BFS 너비우선탐색\n",
    "\n",
    "- 그래프 탐색 방법\n",
    "    - DFS(Depth First Search, 깊이 우선 탐색)\n",
    "        - Stack 활용\n",
    "    - BFS(Breadth First Search, 너비 우선 탐색)\n",
    "        - 큐 활용\n",
    "        - 시작점의 인접한 정점들을 모두 차례로 방문한 후 방문했던 정점을 시작점으로하여 다시 인접한 장점들을 차례로 방문하는 방식\n",
    "        - 인접한 정점들을 탐색한 후 차례로 너비 우선 탐색을 진행해야 하므로 선입선출 형태의 자료구조인 큐 활용"
   ]
  },
  {
   "cell_type": "code",
   "execution_count": null,
   "metadata": {},
   "outputs": [],
   "source": [
    "def BFS(G,v):  # 그래프 G, 탐색 시장점 v\n",
    "    visited = [0]*n # n: 정점의 개수\n",
    "    queue = [] # 큐 생성\n",
    "    queue.append(v) # 시작점 v를 큐에 삽입\n",
    "    while queue: # 큐가 비어있지 않은 경우\n",
    "        t = queue.pop(0) # 큐의 첫번째 원소 반환\n",
    "        if not visited[t]: # 방문되지 않은 곳이라면\n",
    "            visited[t] = True # 방문한 것으로 표시\n",
    "            visit(t)\n",
    "        for i in G[t]: # t와 연결된 모든 선에 대해\n",
    "            if not visited[i]: # 방문되지 않은 곳이라면\n",
    "                queue.append(i) # 큐에 넣기"
   ]
  },
  {
   "cell_type": "markdown",
   "metadata": {},
   "source": [
    "### 회전"
   ]
  },
  {
   "cell_type": "code",
   "execution_count": 2,
   "metadata": {},
   "outputs": [
    {
     "name": "stdout",
     "output_type": "stream",
     "text": [
      "1\n",
      "3 10\n",
      "5527 731 31274\n",
      "#1 731\n"
     ]
    }
   ],
   "source": [
    "T = int(input())\n",
    "\n",
    "for case in range(1,T+1):\n",
    "    N, M = map(int,input().split())\n",
    "    nums = list(map(int,input().split()))\n",
    "    result = nums[M%N]\n",
    "    print(\"#%d\"%case, result)"
   ]
  },
  {
   "cell_type": "markdown",
   "metadata": {},
   "source": [
    "### 미로의 거리"
   ]
  },
  {
   "cell_type": "code",
   "execution_count": null,
   "metadata": {},
   "outputs": [],
   "source": [
    "import queue\n",
    "\n",
    "# T = int(input())\n",
    "\n",
    "f = open(\"cases.txt\", \"r\")\n",
    "T = int(f.readline())\n",
    "\n",
    "for case in range(1, T + 1):\n",
    "    # N = int(input())\n",
    "    N = int(f.readline())\n",
    "    maze = []\n",
    "    find_start = False\n",
    "    get_end = False\n",
    "    q = queue.Queue()\n",
    "    step = 0\n",
    "\n",
    "    # start\n",
    "    y, x = 0, 0\n",
    "\n",
    "    for i in range(N+2):\n",
    "        if i == 0 or i == N+1:\n",
    "            maze.append([1]*(N+2))\n",
    "            continue\n",
    "        line_of_maze = [1] + list(map(int,list(f.readline()[:N]))) + [1]\n",
    "\n",
    "        idx = 0\n",
    "        while not find_start and idx < (N+2):\n",
    "            n = line_of_maze[idx]\n",
    "            if n == 2:\n",
    "                y, x = i, idx\n",
    "                break\n",
    "            idx += 1\n",
    "\n",
    "        maze.append(line_of_maze)\n",
    "\n",
    "    q.put((y, x, step))\n",
    "\n",
    "    # print(x,y)\n",
    "\n",
    "    while not q.empty():\n",
    "\n",
    "        if maze[y][x] == 3:\n",
    "            get_end = True\n",
    "            break\n",
    "\n",
    "        maze[y][x] = 1\n",
    "\n",
    "        if maze[y][x+1] != 1:\n",
    "            q.put((y,x+1,step+1))\n",
    "        if maze[y+1][x] != 1:\n",
    "            q.put((y+1, x,step+1))\n",
    "        if maze[y][x - 1] != 1:\n",
    "            q.put((y, x-1,step+1))\n",
    "        if maze[y - 1][x] != 1:\n",
    "            q.put((y-1 , x,step+1))\n",
    "\n",
    "        tmp = q.get()\n",
    "        y, x, step = tmp[0], tmp[1], tmp[2]\n",
    "        # print(tmp, maze[y][x], q.qsize(), q.empty())\n",
    "\n",
    "    if get_end:\n",
    "        print(\"#%d\" % case, step-1)\n",
    "    else:\n",
    "        print(\"#%d\" % case, 0)\n",
    "\n",
    "\n",
    "f.close()"
   ]
  },
  {
   "cell_type": "markdown",
   "metadata": {},
   "source": [
    "### 피자굽기"
   ]
  },
  {
   "cell_type": "code",
   "execution_count": null,
   "metadata": {},
   "outputs": [],
   "source": [
    "import queue\n",
    "\n",
    "# T = int(input())\n",
    "\n",
    "f = open(\"cases.txt\", \"r\")\n",
    "T = int(f.readline())\n",
    "\n",
    "for case in range(1, T + 1):\n",
    "    # N = int(input())\n",
    "    N, M = map(int, f.readline().split())\n",
    "    pizza_cheese = list(map(int, f.readline().split()[:M]))\n",
    "    pizza = []\n",
    "    last_pizza = 0\n",
    "\n",
    "    qO = queue.Queue(maxsize=N)\n",
    "    qp = queue.Queue()\n",
    "\n",
    "    for i in range(M):\n",
    "        qp.put([pizza_cheese[i], i+1])\n",
    "\n",
    "    for _ in range(N):\n",
    "        qO.put(qp.get())\n",
    "\n",
    "    while not qO.empty():\n",
    "\n",
    "        check = qO.get()\n",
    "        check[0] = check[0] // 2\n",
    "\n",
    "        if qO.empty() and qp.empty():\n",
    "            last_pizza = check[1]\n",
    "            break\n",
    "\n",
    "        if check[0] == 0:\n",
    "            if not qp.empty():\n",
    "                qO.put(qp.get())\n",
    "        else:\n",
    "            qO.put(check)\n",
    "\n",
    "    print(\"#%d\"%case, last_pizza)\n",
    "\n",
    "\n",
    "\n",
    "\n",
    "f.close()"
   ]
  },
  {
   "cell_type": "markdown",
   "metadata": {},
   "source": [
    "###  노드의 거리"
   ]
  },
  {
   "cell_type": "code",
   "execution_count": 6,
   "metadata": {},
   "outputs": [],
   "source": [
    "import queue\n",
    "\n",
    "# T = int(input())\n",
    "\n",
    "f = open(\"cases.txt\", \"r\")\n",
    "T = int(f.readline())\n",
    "\n",
    "for case in range(1, T + 1):\n",
    "    V, E = map(int,f.readline().split())\n",
    "    graph = {}\n",
    "\n",
    "    for i in range(1, V+1):\n",
    "        graph[i] = []\n",
    "\n",
    "    for _ in range(E):\n",
    "        n1, n2 = map(int, f.readline().split()[:2])\n",
    "        graph[n1] += [n2]\n",
    "        graph[n2] += [n1]\n",
    "\n",
    "    # print(graph)\n",
    "\n",
    "    S, G = map(int, f.readline().split()[:2])\n",
    "\n",
    "    q = queue.Queue()\n",
    "    color = [\"w\"]*V\n",
    "\n",
    "    q.put([S, 0])\n",
    "    color[S-1] = \"g\"\n",
    "\n",
    "    find = 0\n",
    "\n",
    "    # print(\"strat : \", S, \"goal : \", G)\n",
    "\n",
    "    while not q.empty():\n",
    "\n",
    "        u = q.get_nowait()\n",
    "\n",
    "        print(u[0], color)\n",
    "\n",
    "        for c in graph[u[0]]:\n",
    "            if c == G:\n",
    "                find = u[1]+1\n",
    "                break\n",
    "            if color[c-1] == \"w\":\n",
    "                color[c-1] = \"g\"\n",
    "                q.put_nowait([c, u[1]+1])\n",
    "        color[u[0]-1] = \"b\"\n",
    "\n",
    "        if find != 0:\n",
    "            break\n",
    "\n",
    "    # print(\"#%d\" % case, find)\n",
    "\n",
    "f.close()"
   ]
  }
 ],
 "metadata": {
  "kernelspec": {
   "display_name": "Python 3",
   "language": "python",
   "name": "python3"
  },
  "language_info": {
   "codemirror_mode": {
    "name": "ipython",
    "version": 3
   },
   "file_extension": ".py",
   "mimetype": "text/x-python",
   "name": "python",
   "nbconvert_exporter": "python",
   "pygments_lexer": "ipython3",
   "version": "3.6.6"
  }
 },
 "nbformat": 4,
 "nbformat_minor": 2
}
