{
 "cells": [
  {
   "cell_type": "markdown",
   "metadata": {},
   "source": [
    "# 01. 완전 검색\n",
    "\n",
    "- 완전 검색 기법\n",
    "    - Baby-Gin 문제\n",
    "    - 완전 검색\n",
    "        - 문제의 해를 얻기 위해 가능한 모든 경우를 나열하고 확인하는 기법\n",
    "            - Brute-force로 컴퓨터에 의존\n",
    "        - 문제 해결을 위한 간단하고 쉬운 접근법\n",
    "            - 상대적으로 빠른시간 안에 해결 가능\n",
    "        - 대부분의 문제에 적용 가능\n",
    "        - 문제에 크기가 작을 경우 유용\n",
    "    - 순차 검색(Sequential Search)\n",
    "        - 첫 번째 자료부터 비교하면서 진행\n",
    "        - 최악 : 리스트에 키값이 존재 X --> 모든 자료에 대해 비교\n",
    "    - 완전 검색으로 시작하기\n",
    "        - 문제의 크기가 커지면 시간 복잡도가 매우 크게 증가\n",
    "        - 답을 찾지 못할 확률이 적음\n",
    "        - 그리디 기법이나 동적 계획법을 이용해 효율적인 알고리즘 찾음\n",
    "        - 학술적 혹은 교육적 목적으로 알고리즘 효율성 판단을 위한 척도로 사용\n",
    "        - 검정 등에서 주어진 문제를 풀 경우\n",
    "            1. 완전 검색으로 접근해 해답 도출\n",
    "            2. 성능 개선을 위해 다른 알고리즘 사용\n",
    "            3. 해답 확인"
   ]
  },
  {
   "cell_type": "markdown",
   "metadata": {},
   "source": [
    "# 02. 조합적 문제\n",
    "- 완전 검색과 조합적 문제\n",
    "    - 완전 검색\n",
    "        - 많은 종류의 문제들이 특정 조건을 만족하는 경우나 요소를 찾는 검색\n",
    "        - Permutation, Combination, Subset과 같은 Combinatorial Problems과 관련\n",
    "        - 조합적 문제에 대한 고지식한 방법(Brute-force)\n",
    "- 순열\n",
    "    - nPr\n",
    "    - 다수의 알고리즘 문제들\n",
    "        - 순서화된 요소들의 집합에서 최선의 방법을 찾는 것과 관련됨\n",
    "        - 예) 순회 외판원 문제(Traveling Salesman Problem)\n",
    "            - 여러 도시들이 있고 한 도시에서 다른 도시로 이동하는 비용이 주어짐\n",
    "            - 출발 도시에서 시작해서 다른 모든 도시를 한 번 방문하고 출발 도시로 돌아오는 최소 비용의 이동경로를 구하는 문제\n",
    "            - 방문할 도시들을 순서대로 나열하면 하나의 경로가 됨\n",
    "    - 단순하게 순열을 생성하는 방법\n",
    "        - for loops\n",
    "        - 일반적으로 재귀를 사용\n",
    "    - 사전식 순서(Lexicographic-Order)\n",
    "    - 최소 변경을 통한 방법\n",
    "        - 각각의 순열은 이전의 상태에서 단지 두 개의 요소들 교환을 통해 생성\n",
    "        - Johnson-Trotter alogrithm\n",
    "    - 두 원소의 교환을 통해 생성\n",
    "        - N개의 요소가 있을 때 N번의 선택으로 순열 생성"
   ]
  },
  {
   "cell_type": "code",
   "execution_count": null,
   "metadata": {},
   "outputs": [],
   "source": [
    "# 파이선에서 서는 제공\n",
    "import itertools\n",
    "mylist = [1,2,3]\n",
    "result = itertools.permutations(mylist)\n",
    "print(list(result))"
   ]
  },
  {
   "cell_type": "code",
   "execution_count": null,
   "metadata": {},
   "outputs": [],
   "source": [
    "result=itertools.product(mylist, repeat = 3)\n",
    "print(list(result))"
   ]
  },
  {
   "cell_type": "markdown",
   "metadata": {},
   "source": [
    "- 부분집합\n",
    "    - 집합에 포함된 원소들을 선택하는 것\n",
    "    - 다수의 중요 알고리즘들이 원소들의 그룹에서 최적의 부분 집합을 찾는 것\n",
    "        - 예) 배낭 짐싸기\n",
    "            - 배낭과 물건들의 집합이 주어지며, 배낭은 무게가 있고, 아이템들은 각각 무게와 가치가 있음\n",
    "            - 배낭에 담는 무게의 총합 < 배낭의 무게\n",
    "            - 물건의 총합이 배낭의 무게를 초과하지 않으면서 가치의 합이 최대가 되는 물건들 선택하는 문제\n",
    "    - N개의 원소를 포함한 집합\n",
    "        - 모든 부분 집합의 개수는 $2^n$ 개\n",
    "    - 비트 표현을 이용해 부분집합을 생성하는 간단한 방법 : Binary Counting\n",
    "        - 원소 수에 해당하는 N개의 비트열을 이용"
   ]
  },
  {
   "cell_type": "code",
   "execution_count": null,
   "metadata": {},
   "outputs": [],
   "source": [
    "result=itertools.product([0,1], repeat = 3)\n",
    "print(list(result))\n",
    "\n",
    "arr = [2,3,4]\n",
    "for i in range(1<<len(arr)):\n",
    "    print([arr[j] for j in range(len(arr)) if i & (1<<j) and 2*1<= i < 2**3])"
   ]
  },
  {
   "cell_type": "markdown",
   "metadata": {},
   "source": [
    "- 조합(Combination)\n",
    "    - 서로 다른 n개의 원소 중 r개를 순서 없이 골라낸 것\n",
    "    - $nCr = \\frac{n!}{(n-r)!r!}, (n \\geq r)$"
   ]
  },
  {
   "cell_type": "code",
   "execution_count": 5,
   "metadata": {},
   "outputs": [
    {
     "name": "stderr",
     "output_type": "stream",
     "text": [
      "IOPub data rate exceeded.\n",
      "The notebook server will temporarily stop sending output\n",
      "to the client in order to avoid crashing it.\n",
      "To change this limit, set the config variable\n",
      "`--NotebookApp.iopub_data_rate_limit`.\n",
      "\n",
      "Current values:\n",
      "NotebookApp.iopub_data_rate_limit=1000000.0 (bytes/sec)\n",
      "NotebookApp.rate_limit_window=3.0 (secs)\n",
      "\n"
     ]
    }
   ],
   "source": [
    "# Combination\n",
    "\n",
    "an = [] # n개의 원소를 가지고 있는 리스트\n",
    "tr = [] # 조합이 임시 저장될 r개의 크기의 리스트\n",
    "\n",
    "def comb(n,r):\n",
    "    if r==0: print(tr)\n",
    "    elif n<r : return\n",
    "    else:\n",
    "        tr[r-1] = an[n-1]\n",
    "        comb(n-1,r-1)\n",
    "        comb(n-1,r)\n",
    "        \n",
    "import itertools\n",
    "# 조합\n",
    "mylist = [x for x in range(24)]\n",
    "result = itertools.combinations(mylist, r=12)\n",
    "print(list(result))\n",
    "\n",
    "# 중복조합\n",
    "mylist = [0,1,2]\n",
    "result = itertools.combinations_with_replacement(mylist, r=2)\n",
    "print(list(result))"
   ]
  },
  {
   "cell_type": "markdown",
   "metadata": {},
   "source": [
    "### 최소합"
   ]
  },
  {
   "cell_type": "code",
   "execution_count": null,
   "metadata": {},
   "outputs": [],
   "source": [
    "N = 13\n",
    "direction = [1]*(N-1) + [0]*(N-1)\n",
    "moves = set(itertools.permutations(direction))\n",
    "\n",
    "print(list(moves))"
   ]
  },
  {
   "cell_type": "code",
   "execution_count": null,
   "metadata": {},
   "outputs": [],
   "source": [
    "import itertools\n",
    "\n",
    "T = int(input())\n",
    "\n",
    "def binary_tree(grid, sum_element = 0, cur = (0,0)):\n",
    "    if cur == (len(grid)-1, len(grid)-1):\n",
    "        tmp = sum_element + grid[cur[1],cur[0]]\n",
    "        nums.append(tmp)\n",
    "    if cur[0]> len(grid) or cur[1] > len(grid):\n",
    "        tmp = sum_element +  grid[cur[1],cur[0]]\n",
    "        \n",
    "        \n",
    "        \n",
    "for case in range(1,T+1):\n",
    "    \n",
    "    N = int(input())\n",
    "    \n",
    "    grid = []\n",
    "    \n",
    "    for _ in range(N):\n",
    "        grid.append(list(map(int,input().split())))\n",
    "        \n",
    "    \n",
    "        \n",
    "    \n",
    "        \n",
    "        if bottom >= total:\n",
    "            bottom = total\n",
    "        \n",
    "    print(\"#%d\"%case, bottom)"
   ]
  }
 ],
 "metadata": {
  "kernelspec": {
   "display_name": "Python 3",
   "language": "python",
   "name": "python3"
  },
  "language_info": {
   "codemirror_mode": {
    "name": "ipython",
    "version": 3
   },
   "file_extension": ".py",
   "mimetype": "text/x-python",
   "name": "python",
   "nbconvert_exporter": "python",
   "pygments_lexer": "ipython3",
   "version": "3.6.6"
  }
 },
 "nbformat": 4,
 "nbformat_minor": 2
}
