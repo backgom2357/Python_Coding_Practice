{
 "cells": [
  {
   "cell_type": "markdown",
   "metadata": {},
   "source": [
    "#  01. 분할 정복 기법\n",
    "\n",
    "- 가짜 동전 찾기\n",
    "- 분할 정복 알고리즘의 설계 전략\n",
    "    - 분할 Divide\n",
    "        - 해결할 문제를 여러개의 작은 부분 문제들로 분할\n",
    "    - 정복 Conquer\n",
    "        - 나눈 작은 문제를 각각 해결\n",
    "    - 통합 Combine\n",
    "        - 필요 시 해결된 해답을 모음\n",
    "- 거듭 제곱 : $O(n)$ --> $O(\\log_2n)$"
   ]
  },
  {
   "cell_type": "markdown",
   "metadata": {},
   "source": [
    "# 02. 병합 정렬\n",
    "\n",
    "- 여러 개의 정렬된 자료의 집합을 병합하여 한 개의 정렬된 집합으로 만드는 방식\n",
    "- 분할 정복 알고리즘 활용\n",
    "    - 자료를 최소 단위의 문제까지 나눈 후, 차례대로 정렬하여 최종 결과 획득\n",
    "    - Top-down 방식\n",
    "    - $O(n \\log n)$\n",
    "- 병합 정렬 과정\n",
    "- 리스트나 연결리스트를 사용해 구현\n",
    "    - 연결 리스트가 효과적이다."
   ]
  },
  {
   "cell_type": "markdown",
   "metadata": {},
   "source": [
    "# 03. 퀵 정렬\n",
    "\n",
    "- 주어진 리스트를 두개로 분할하고, 각각을 정렬\n",
    "- 병합 정렬과 동일해 보이나 다른점을 가짐\n",
    "- 병합 정렬\n",
    "    - 두 부분으로 나눔\n",
    "    - 각 부분 정렬이 끝난 후, 병합하는 후처리 작업 필요\n",
    "- 퀵 정렬\n",
    "    - 분할 시, 기준 아이템(pivot item)중심으로 이보다 작은 것은 왼편, 큰 것은 오른편에 위치\n",
    "    - 후처리 작업 필요 X\n",
    "- Hoare 파티션\n",
    "    - 아이디어\n",
    "        - P(피봇) 값들 보다 큰 값은 오른쪽, 작은 값들은 왼쪽 집합에 위치\n",
    "        - 피봇을 두 집합의 가운데에 위치\n",
    "        - 피봇은 정렬된 상태일때 자신의 위치에 위치\n",
    "        - 피봇은 정렬 과정에 포함 안됨\n",
    "- Lomuto 파티션"
   ]
  },
  {
   "cell_type": "markdown",
   "metadata": {},
   "source": [
    "# 04. 이진 검색\n",
    "- 자료의 가운데에 있는 항목의 키 값과 비교하여 다음 검색의 위치를 결정하고 검색을 계속 진행하는 방법\n",
    "- 자료가 정렬상태여야 함\n",
    "- 과정\n",
    "    1. 자료의 중앙에 있는 원소를 고름.\n",
    "    2. 중앙 원소의 값과 찾고자 하는 목표 값을 비교한다.\n",
    "    3. 목표 값과 중앙 원소 값의 관계\n",
    "        - 목표 값 < 중앙 원소 값\n",
    "            - 자료의 왼쪽 반에 대해서 새로 검색 수행\n",
    "        - 목표 값 > 중앙 원소 값\n",
    "            - 자료의 오른쪽 반에 대해서 새로 검색 수행\n",
    "    4. 찾고자 하는 값을 찾을 때까지 1~3의 과정 반복\n",
    "- 자료 삽입 삭제시 항상 정렬 상태로 유지하는 추가 작업 필요"
   ]
  },
  {
   "cell_type": "code",
   "execution_count": null,
   "metadata": {},
   "outputs": [],
   "source": [
    "# 반복 구조\n",
    "\n",
    "# a: 검색할 리스트\n",
    "# key: 검색하고자 하는 값\n",
    "\n",
    "def binarySearch(a, key):\n",
    "    start = 0\n",
    "    end = len(a) - 1\n",
    "    while start <= end:\n",
    "        middle = start + (end - start) // 2\n",
    "        if key == a[middle]: # 검색 성공\n",
    "            return middle\n",
    "        elif key < a[middle]:\n",
    "            end = middle -1\n",
    "        else:\n",
    "            start = middle + 1\n",
    "    return -1 # 검색 실패"
   ]
  },
  {
   "cell_type": "code",
   "execution_count": null,
   "metadata": {},
   "outputs": [],
   "source": [
    "# 재귀 구조\n",
    "\n",
    "def binarySearch2(a, low, high, key):\n",
    "    if low > high: # 검색 실패\n",
    "        return -1\n",
    "    else:\n",
    "        middle = (low + high) // 2\n",
    "        if key == a[middle]:   # 검색 성공\n",
    "            return middle\n",
    "        elif key < a[middle]:\n",
    "            return binarySearch2(a, low, middle-1, key)\n",
    "        else:   # a[middle] < key\n",
    "            return binarySearch2(a, middle + 1, high, key)"
   ]
  },
  {
   "cell_type": "markdown",
   "metadata": {},
   "source": [
    "# 05. 분할 정복 사례\n",
    "- 병합 정렬 : 외부 정렬의 기본이 되는 정렬 알고리즘\n",
    "    - 멀티 코어 CPU나 다수의 프로세서에서 정렬 알고리즘 병렬화를 위해 병합 정렬 알고리즘 사용\n",
    "- 퀵 정렬 : 매우 큰 입력 데이터에 대해서 좋은 성능을 보이는 알고리즘\n",
    "    - 생물 정보 공학에서 특정 유전자를 효율적으로 찾는데 접미어 배열과 함께 사용\n",
    "    - 접미어 배열은 문자열에서 학습\n",
    "- 최근접 점의 쌍 문제 : 2차원 평면상의 n개의 점이 입력으로 주어질 때, 거리가 가장 가까운 한 쌍의 점을 찾는 문제\n",
    "    - 컴퓨터 그래픽스, 컴퓨터 비전, 지리 정보 시스템, 항공 트래픽 제어, 마케팅(신규 가맹점 위치 설정 등)등의 분야"
   ]
  },
  {
   "cell_type": "markdown",
   "metadata": {},
   "source": [
    "### 병합 정렬"
   ]
  },
  {
   "cell_type": "code",
   "execution_count": null,
   "metadata": {},
   "outputs": [],
   "source": [
    "# T = int(input())\n",
    "\n",
    "f = open(\"cases.txt\", \"r\")\n",
    "T = int(f.readline())\n",
    "\n",
    "def divide(arr):\n",
    "    tmp = arr\n",
    "    p = len(arr) // 2\n",
    "    if len(arr) > 1:\n",
    "        front = divide(arr[:p])\n",
    "        back = divide(arr[p:])\n",
    "        tmp = merge_sort(front, back)\n",
    "    return tmp\n",
    "\n",
    "def merge_sort(arr1, arr2):\n",
    "    global count\n",
    "\n",
    "    if arr1[-1] > arr2[-1]:\n",
    "        count += 1\n",
    "\n",
    "    arr1.append(1000000)\n",
    "    arr2.append(1000000)\n",
    "\n",
    "    tmp = []\n",
    "    i = j = 0\n",
    "    while len(tmp) < len(arr1) + len(arr2) - 2:\n",
    "        if arr1[i] <= arr2[j]:\n",
    "            tmp.append(arr1[i])\n",
    "            i += 1\n",
    "        elif arr1[i] > arr2[j]:\n",
    "            tmp.append(arr2[j])\n",
    "            j += 1\n",
    "\n",
    "    return tmp\n",
    "\n",
    "for case in range(1, T+1):\n",
    "\n",
    "    N = int(f.readline())\n",
    "\n",
    "    A = list(map(int, f.readline().split()))\n",
    "    count = 0\n",
    "\n",
    "    print(\"#%d\"%case, divide(A)[N//2], count)\n",
    "\n",
    "\n",
    "\n",
    "f.close()"
   ]
  },
  {
   "cell_type": "markdown",
   "metadata": {},
   "source": [
    "### 이진 탐색"
   ]
  },
  {
   "cell_type": "code",
   "execution_count": null,
   "metadata": {},
   "outputs": [],
   "source": [
    "T = int(input())\n",
    "\n",
    "def binarySearch(a, low, high, key):\n",
    "    global count, check\n",
    "\n",
    "    if low > high:\n",
    "        return -1\n",
    "    else:\n",
    "        middle = (low + high) // 2\n",
    "        if key == a[middle]:\n",
    "            count += 1\n",
    "            return middle\n",
    "        elif key < a[middle]:\n",
    "            if check == 1: return\n",
    "            check = 1\n",
    "            return binarySearch(a, low, middle - 1, key)\n",
    "        else:\n",
    "            if check == -1: return\n",
    "            check = -1\n",
    "            return binarySearch(a, middle + 1, high, key)\n",
    "\n",
    "\n",
    "for case in range(1, T+1):\n",
    "\n",
    "    N, M = map(int, input().split())\n",
    "\n",
    "    A = list(map(int, input().split()))\n",
    "    B = list(map(int, input().split()))\n",
    "    \n",
    "    A.sort()\n",
    "    count = 0\n",
    "\n",
    "    for c in B:\n",
    "        check=0\n",
    "        result = binarySearch(A, 0, N-1, c)\n",
    "        \n",
    "    print(\"#%d\"%case, count)"
   ]
  }
 ],
 "metadata": {
  "kernelspec": {
   "display_name": "Python 3",
   "language": "python",
   "name": "python3"
  },
  "language_info": {
   "codemirror_mode": {
    "name": "ipython",
    "version": 3
   },
   "file_extension": ".py",
   "mimetype": "text/x-python",
   "name": "python",
   "nbconvert_exporter": "python",
   "pygments_lexer": "ipython3",
   "version": "3.6.6"
  }
 },
 "nbformat": 4,
 "nbformat_minor": 2
}
